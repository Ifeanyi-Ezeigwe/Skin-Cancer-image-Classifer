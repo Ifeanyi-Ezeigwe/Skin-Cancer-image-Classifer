{
  "cells": [
    {
      "cell_type": "markdown",
      "metadata": {
        "id": "view-in-github",
        "colab_type": "text"
      },
      "source": [
        "<a href=\"https://colab.research.google.com/github/Ifeanyi-Ezeigwe/Skin-Cancer-image-Classifer/blob/main/SID_2193800_ProjectCode.ipynb\" target=\"_parent\"><img src=\"https://colab.research.google.com/assets/colab-badge.svg\" alt=\"Open In Colab\"/></a>"
      ]
    },
    {
      "cell_type": "markdown",
      "metadata": {
        "id": "Zr0I1aQUDTg8"
      },
      "source": [
        "#Import the necessary Libraries\n"
      ]
    },
    {
      "cell_type": "code",
      "execution_count": 2,
      "metadata": {
        "id": "PmU-FqukU7oD"
      },
      "outputs": [],
      "source": [
        "#import the necessary libraries that we need for this project\n",
        "\n",
        "import warnings\n",
        "warnings.filterwarnings('ignore')\n",
        "\n",
        "import numpy as np\n",
        "import pandas as pd\n",
        "import matplotlib.pyplot as plt\n",
        "import os\n",
        "from glob import glob\n",
        "import seaborn as sns\n",
        "from PIL import Image\n",
        "import tensorflow as tf\n",
        "import plotly as px\n",
        "\n",
        "np.random.seed(42)\n",
        "\n",
        "from sklearn.metrics import confusion_matrix\n",
        "\n",
        "import keras\n",
        "from keras.utils.np_utils import to_categorical\n",
        "from keras.models import Sequential\n",
        "\n",
        "\n",
        "from keras.layers import Dense, Dropout, Flatten, Conv2D, MaxPooling2D, BatchNormalization\n",
        "\n",
        "from sklearn.model_selection import train_test_split\n",
        "from scipy import stats\n",
        "from sklearn.preprocessing import LabelEncoder\n",
        "from tensorflow.keras import layers, models\n"
      ]
    },
    {
      "cell_type": "code",
      "execution_count": 3,
      "metadata": {
        "id": "QbMjuZBdZnMa"
      },
      "outputs": [],
      "source": [
        "#Reading and loading the HAM10000 dataset into a DataFrame\n",
        "\n",
        "\n",
        "dir_path = '/content/drive/MyDrive/Colab_files/Neu_Comp/dataverse_files/'\n",
        "df = pd.read_csv(dir_path + 'HAM10000_metadata')\n",
        "\n",
        "\n"
      ]
    },
    {
      "cell_type": "markdown",
      "metadata": {
        "id": "5xw9hTDnCri7"
      },
      "source": [
        "#Exploratory data Analysis and Visualization\n",
        "\n",
        "\n"
      ]
    },
    {
      "cell_type": "code",
      "execution_count": 4,
      "metadata": {
        "id": "26pNslDoaDyj"
      },
      "outputs": [],
      "source": [
        "#Firstly we initialize the image size we want to use for this prediction, \n",
        "#we have to resize the image from the default size of 600*450 and assume the image size of 32 (32by32)\n",
        "\n",
        "SIZE = 28"
      ]
    },
    {
      "cell_type": "code",
      "execution_count": 5,
      "metadata": {
        "colab": {
          "base_uri": "https://localhost:8080/"
        },
        "id": "rZvqiDPvalAu",
        "outputId": "eef5f048-45cf-4752-a041-67ae089afe25"
      },
      "outputs": [
        {
          "output_type": "stream",
          "name": "stdout",
          "text": [
            "['akiec', 'bcc', 'bkl', 'df', 'mel', 'nv', 'vasc']\n"
          ]
        }
      ],
      "source": [
        "#convert the label values from text to numeric values\n",
        "\n",
        "le = LabelEncoder()\n",
        "le.fit(df['dx'])\n",
        "LabelEncoder()\n",
        "print(list(le.classes_))"
      ]
    },
    {
      "cell_type": "code",
      "execution_count": 6,
      "metadata": {
        "colab": {
          "base_uri": "https://localhost:8080/"
        },
        "id": "jFCZwmBbcS9T",
        "outputId": "f06c097a-dbb6-4d3c-d4ca-87e9706f6849"
      },
      "outputs": [
        {
          "output_type": "stream",
          "name": "stdout",
          "text": [
            "        lesion_id      image_id   dx    dx_type   age     sex  \\\n",
            "1617  HAM_0007180  ISIC_0033272  mel      histo  65.0    male   \n",
            "8128  HAM_0007195  ISIC_0031923   nv      histo  40.0  female   \n",
            "2168  HAM_0001835  ISIC_0026652  mel      histo  65.0    male   \n",
            "1090  HAM_0000465  ISIC_0030583  bkl  consensus  35.0  female   \n",
            "7754  HAM_0001720  ISIC_0034010   nv      histo  45.0    male   \n",
            "8071  HAM_0006333  ISIC_0024424   nv      histo  35.0    male   \n",
            "7423  HAM_0004548  ISIC_0032832   nv      histo  45.0  female   \n",
            "8984  HAM_0006526  ISIC_0026671   nv      histo  55.0    male   \n",
            "2310  HAM_0003102  ISIC_0032389  mel      histo  65.0    male   \n",
            "7256  HAM_0004260  ISIC_0025525   nv      histo  65.0    male   \n",
            "\n",
            "         localization        dataset  label  \n",
            "1617             face   vidir_modern      4  \n",
            "8128  lower extremity    vienna_dias      5  \n",
            "2168             back      rosendahl      4  \n",
            "1090            trunk  vidir_molemax      2  \n",
            "7754          abdomen   vidir_modern      5  \n",
            "8071            trunk    vienna_dias      5  \n",
            "7423  upper extremity   vidir_modern      5  \n",
            "8984  lower extremity      rosendahl      5  \n",
            "2310             face      rosendahl      4  \n",
            "7256             back   vidir_modern      5  \n"
          ]
        }
      ],
      "source": [
        "#label transformation and create a new column to store the new transformed lables\n",
        "\n",
        "df['label'] = le.transform(df['dx'])\n",
        "print(df.sample(10))"
      ]
    },
    {
      "cell_type": "code",
      "execution_count": 7,
      "metadata": {
        "colab": {
          "base_uri": "https://localhost:8080/",
          "height": 206
        },
        "id": "0DRYzYvAgfyS",
        "outputId": "a854742f-5a9c-47c1-aae4-826973d57fcc"
      },
      "outputs": [
        {
          "output_type": "execute_result",
          "data": {
            "text/plain": [
              "     lesion_id      image_id   dx dx_type   age   sex localization  \\\n",
              "0  HAM_0000118  ISIC_0027419  bkl   histo  80.0  male        scalp   \n",
              "1  HAM_0000118  ISIC_0025030  bkl   histo  80.0  male        scalp   \n",
              "2  HAM_0002730  ISIC_0026769  bkl   histo  80.0  male        scalp   \n",
              "3  HAM_0002730  ISIC_0025661  bkl   histo  80.0  male        scalp   \n",
              "4  HAM_0001466  ISIC_0031633  bkl   histo  75.0  male          ear   \n",
              "\n",
              "        dataset  label  \n",
              "0  vidir_modern      2  \n",
              "1  vidir_modern      2  \n",
              "2  vidir_modern      2  \n",
              "3  vidir_modern      2  \n",
              "4  vidir_modern      2  "
            ],
            "text/html": [
              "\n",
              "  <div id=\"df-55004f79-8020-4145-9c90-839efb465a5e\">\n",
              "    <div class=\"colab-df-container\">\n",
              "      <div>\n",
              "<style scoped>\n",
              "    .dataframe tbody tr th:only-of-type {\n",
              "        vertical-align: middle;\n",
              "    }\n",
              "\n",
              "    .dataframe tbody tr th {\n",
              "        vertical-align: top;\n",
              "    }\n",
              "\n",
              "    .dataframe thead th {\n",
              "        text-align: right;\n",
              "    }\n",
              "</style>\n",
              "<table border=\"1\" class=\"dataframe\">\n",
              "  <thead>\n",
              "    <tr style=\"text-align: right;\">\n",
              "      <th></th>\n",
              "      <th>lesion_id</th>\n",
              "      <th>image_id</th>\n",
              "      <th>dx</th>\n",
              "      <th>dx_type</th>\n",
              "      <th>age</th>\n",
              "      <th>sex</th>\n",
              "      <th>localization</th>\n",
              "      <th>dataset</th>\n",
              "      <th>label</th>\n",
              "    </tr>\n",
              "  </thead>\n",
              "  <tbody>\n",
              "    <tr>\n",
              "      <th>0</th>\n",
              "      <td>HAM_0000118</td>\n",
              "      <td>ISIC_0027419</td>\n",
              "      <td>bkl</td>\n",
              "      <td>histo</td>\n",
              "      <td>80.0</td>\n",
              "      <td>male</td>\n",
              "      <td>scalp</td>\n",
              "      <td>vidir_modern</td>\n",
              "      <td>2</td>\n",
              "    </tr>\n",
              "    <tr>\n",
              "      <th>1</th>\n",
              "      <td>HAM_0000118</td>\n",
              "      <td>ISIC_0025030</td>\n",
              "      <td>bkl</td>\n",
              "      <td>histo</td>\n",
              "      <td>80.0</td>\n",
              "      <td>male</td>\n",
              "      <td>scalp</td>\n",
              "      <td>vidir_modern</td>\n",
              "      <td>2</td>\n",
              "    </tr>\n",
              "    <tr>\n",
              "      <th>2</th>\n",
              "      <td>HAM_0002730</td>\n",
              "      <td>ISIC_0026769</td>\n",
              "      <td>bkl</td>\n",
              "      <td>histo</td>\n",
              "      <td>80.0</td>\n",
              "      <td>male</td>\n",
              "      <td>scalp</td>\n",
              "      <td>vidir_modern</td>\n",
              "      <td>2</td>\n",
              "    </tr>\n",
              "    <tr>\n",
              "      <th>3</th>\n",
              "      <td>HAM_0002730</td>\n",
              "      <td>ISIC_0025661</td>\n",
              "      <td>bkl</td>\n",
              "      <td>histo</td>\n",
              "      <td>80.0</td>\n",
              "      <td>male</td>\n",
              "      <td>scalp</td>\n",
              "      <td>vidir_modern</td>\n",
              "      <td>2</td>\n",
              "    </tr>\n",
              "    <tr>\n",
              "      <th>4</th>\n",
              "      <td>HAM_0001466</td>\n",
              "      <td>ISIC_0031633</td>\n",
              "      <td>bkl</td>\n",
              "      <td>histo</td>\n",
              "      <td>75.0</td>\n",
              "      <td>male</td>\n",
              "      <td>ear</td>\n",
              "      <td>vidir_modern</td>\n",
              "      <td>2</td>\n",
              "    </tr>\n",
              "  </tbody>\n",
              "</table>\n",
              "</div>\n",
              "      <button class=\"colab-df-convert\" onclick=\"convertToInteractive('df-55004f79-8020-4145-9c90-839efb465a5e')\"\n",
              "              title=\"Convert this dataframe to an interactive table.\"\n",
              "              style=\"display:none;\">\n",
              "        \n",
              "  <svg xmlns=\"http://www.w3.org/2000/svg\" height=\"24px\"viewBox=\"0 0 24 24\"\n",
              "       width=\"24px\">\n",
              "    <path d=\"M0 0h24v24H0V0z\" fill=\"none\"/>\n",
              "    <path d=\"M18.56 5.44l.94 2.06.94-2.06 2.06-.94-2.06-.94-.94-2.06-.94 2.06-2.06.94zm-11 1L8.5 8.5l.94-2.06 2.06-.94-2.06-.94L8.5 2.5l-.94 2.06-2.06.94zm10 10l.94 2.06.94-2.06 2.06-.94-2.06-.94-.94-2.06-.94 2.06-2.06.94z\"/><path d=\"M17.41 7.96l-1.37-1.37c-.4-.4-.92-.59-1.43-.59-.52 0-1.04.2-1.43.59L10.3 9.45l-7.72 7.72c-.78.78-.78 2.05 0 2.83L4 21.41c.39.39.9.59 1.41.59.51 0 1.02-.2 1.41-.59l7.78-7.78 2.81-2.81c.8-.78.8-2.07 0-2.86zM5.41 20L4 18.59l7.72-7.72 1.47 1.35L5.41 20z\"/>\n",
              "  </svg>\n",
              "      </button>\n",
              "      \n",
              "  <style>\n",
              "    .colab-df-container {\n",
              "      display:flex;\n",
              "      flex-wrap:wrap;\n",
              "      gap: 12px;\n",
              "    }\n",
              "\n",
              "    .colab-df-convert {\n",
              "      background-color: #E8F0FE;\n",
              "      border: none;\n",
              "      border-radius: 50%;\n",
              "      cursor: pointer;\n",
              "      display: none;\n",
              "      fill: #1967D2;\n",
              "      height: 32px;\n",
              "      padding: 0 0 0 0;\n",
              "      width: 32px;\n",
              "    }\n",
              "\n",
              "    .colab-df-convert:hover {\n",
              "      background-color: #E2EBFA;\n",
              "      box-shadow: 0px 1px 2px rgba(60, 64, 67, 0.3), 0px 1px 3px 1px rgba(60, 64, 67, 0.15);\n",
              "      fill: #174EA6;\n",
              "    }\n",
              "\n",
              "    [theme=dark] .colab-df-convert {\n",
              "      background-color: #3B4455;\n",
              "      fill: #D2E3FC;\n",
              "    }\n",
              "\n",
              "    [theme=dark] .colab-df-convert:hover {\n",
              "      background-color: #434B5C;\n",
              "      box-shadow: 0px 1px 3px 1px rgba(0, 0, 0, 0.15);\n",
              "      filter: drop-shadow(0px 1px 2px rgba(0, 0, 0, 0.3));\n",
              "      fill: #FFFFFF;\n",
              "    }\n",
              "  </style>\n",
              "\n",
              "      <script>\n",
              "        const buttonEl =\n",
              "          document.querySelector('#df-55004f79-8020-4145-9c90-839efb465a5e button.colab-df-convert');\n",
              "        buttonEl.style.display =\n",
              "          google.colab.kernel.accessAllowed ? 'block' : 'none';\n",
              "\n",
              "        async function convertToInteractive(key) {\n",
              "          const element = document.querySelector('#df-55004f79-8020-4145-9c90-839efb465a5e');\n",
              "          const dataTable =\n",
              "            await google.colab.kernel.invokeFunction('convertToInteractive',\n",
              "                                                     [key], {});\n",
              "          if (!dataTable) return;\n",
              "\n",
              "          const docLinkHtml = 'Like what you see? Visit the ' +\n",
              "            '<a target=\"_blank\" href=https://colab.research.google.com/notebooks/data_table.ipynb>data table notebook</a>'\n",
              "            + ' to learn more about interactive tables.';\n",
              "          element.innerHTML = '';\n",
              "          dataTable['output_type'] = 'display_data';\n",
              "          await google.colab.output.renderOutput(dataTable, element);\n",
              "          const docLink = document.createElement('div');\n",
              "          docLink.innerHTML = docLinkHtml;\n",
              "          element.appendChild(docLink);\n",
              "        }\n",
              "      </script>\n",
              "    </div>\n",
              "  </div>\n",
              "  "
            ]
          },
          "metadata": {},
          "execution_count": 7
        }
      ],
      "source": [
        "#lets visualize the first 10 rows of the dataset\n",
        "\n",
        "df.head(5)"
      ]
    },
    {
      "cell_type": "code",
      "execution_count": 8,
      "metadata": {
        "colab": {
          "base_uri": "https://localhost:8080/"
        },
        "id": "3raujOKFYCuo",
        "outputId": "abe849e4-4729-4c5e-869d-0b49307971b9"
      },
      "outputs": [
        {
          "output_type": "execute_result",
          "data": {
            "text/plain": [
              "(10015, 9)"
            ]
          },
          "metadata": {},
          "execution_count": 8
        }
      ],
      "source": [
        "df.shape"
      ]
    },
    {
      "cell_type": "code",
      "execution_count": 9,
      "metadata": {
        "colab": {
          "base_uri": "https://localhost:8080/"
        },
        "id": "5yFYRbwfgpAi",
        "outputId": "c9ac1a8a-6843-493d-abc6-00661ec4de08"
      },
      "outputs": [
        {
          "output_type": "stream",
          "name": "stdout",
          "text": [
            "<class 'pandas.core.frame.DataFrame'>\n",
            "RangeIndex: 10015 entries, 0 to 10014\n",
            "Data columns (total 9 columns):\n",
            " #   Column        Non-Null Count  Dtype  \n",
            "---  ------        --------------  -----  \n",
            " 0   lesion_id     10015 non-null  object \n",
            " 1   image_id      10015 non-null  object \n",
            " 2   dx            10015 non-null  object \n",
            " 3   dx_type       10015 non-null  object \n",
            " 4   age           9958 non-null   float64\n",
            " 5   sex           10015 non-null  object \n",
            " 6   localization  10015 non-null  object \n",
            " 7   dataset       10015 non-null  object \n",
            " 8   label         10015 non-null  int64  \n",
            "dtypes: float64(1), int64(1), object(7)\n",
            "memory usage: 704.3+ KB\n"
          ]
        }
      ],
      "source": [
        "df.info()"
      ]
    },
    {
      "cell_type": "code",
      "execution_count": 10,
      "metadata": {
        "colab": {
          "base_uri": "https://localhost:8080/",
          "height": 300
        },
        "id": "_kklHbabW9wn",
        "outputId": "70ed227a-5862-4118-e740-8c8969302cd9"
      },
      "outputs": [
        {
          "output_type": "execute_result",
          "data": {
            "text/plain": [
              "               age         label\n",
              "count  9958.000000  10015.000000\n",
              "mean     51.863828      4.182327\n",
              "std      16.968614      1.458742\n",
              "min       0.000000      0.000000\n",
              "25%      40.000000      4.000000\n",
              "50%      50.000000      5.000000\n",
              "75%      65.000000      5.000000\n",
              "max      85.000000      6.000000"
            ],
            "text/html": [
              "\n",
              "  <div id=\"df-a45da5d2-0a10-407b-bda6-440e976f287e\">\n",
              "    <div class=\"colab-df-container\">\n",
              "      <div>\n",
              "<style scoped>\n",
              "    .dataframe tbody tr th:only-of-type {\n",
              "        vertical-align: middle;\n",
              "    }\n",
              "\n",
              "    .dataframe tbody tr th {\n",
              "        vertical-align: top;\n",
              "    }\n",
              "\n",
              "    .dataframe thead th {\n",
              "        text-align: right;\n",
              "    }\n",
              "</style>\n",
              "<table border=\"1\" class=\"dataframe\">\n",
              "  <thead>\n",
              "    <tr style=\"text-align: right;\">\n",
              "      <th></th>\n",
              "      <th>age</th>\n",
              "      <th>label</th>\n",
              "    </tr>\n",
              "  </thead>\n",
              "  <tbody>\n",
              "    <tr>\n",
              "      <th>count</th>\n",
              "      <td>9958.000000</td>\n",
              "      <td>10015.000000</td>\n",
              "    </tr>\n",
              "    <tr>\n",
              "      <th>mean</th>\n",
              "      <td>51.863828</td>\n",
              "      <td>4.182327</td>\n",
              "    </tr>\n",
              "    <tr>\n",
              "      <th>std</th>\n",
              "      <td>16.968614</td>\n",
              "      <td>1.458742</td>\n",
              "    </tr>\n",
              "    <tr>\n",
              "      <th>min</th>\n",
              "      <td>0.000000</td>\n",
              "      <td>0.000000</td>\n",
              "    </tr>\n",
              "    <tr>\n",
              "      <th>25%</th>\n",
              "      <td>40.000000</td>\n",
              "      <td>4.000000</td>\n",
              "    </tr>\n",
              "    <tr>\n",
              "      <th>50%</th>\n",
              "      <td>50.000000</td>\n",
              "      <td>5.000000</td>\n",
              "    </tr>\n",
              "    <tr>\n",
              "      <th>75%</th>\n",
              "      <td>65.000000</td>\n",
              "      <td>5.000000</td>\n",
              "    </tr>\n",
              "    <tr>\n",
              "      <th>max</th>\n",
              "      <td>85.000000</td>\n",
              "      <td>6.000000</td>\n",
              "    </tr>\n",
              "  </tbody>\n",
              "</table>\n",
              "</div>\n",
              "      <button class=\"colab-df-convert\" onclick=\"convertToInteractive('df-a45da5d2-0a10-407b-bda6-440e976f287e')\"\n",
              "              title=\"Convert this dataframe to an interactive table.\"\n",
              "              style=\"display:none;\">\n",
              "        \n",
              "  <svg xmlns=\"http://www.w3.org/2000/svg\" height=\"24px\"viewBox=\"0 0 24 24\"\n",
              "       width=\"24px\">\n",
              "    <path d=\"M0 0h24v24H0V0z\" fill=\"none\"/>\n",
              "    <path d=\"M18.56 5.44l.94 2.06.94-2.06 2.06-.94-2.06-.94-.94-2.06-.94 2.06-2.06.94zm-11 1L8.5 8.5l.94-2.06 2.06-.94-2.06-.94L8.5 2.5l-.94 2.06-2.06.94zm10 10l.94 2.06.94-2.06 2.06-.94-2.06-.94-.94-2.06-.94 2.06-2.06.94z\"/><path d=\"M17.41 7.96l-1.37-1.37c-.4-.4-.92-.59-1.43-.59-.52 0-1.04.2-1.43.59L10.3 9.45l-7.72 7.72c-.78.78-.78 2.05 0 2.83L4 21.41c.39.39.9.59 1.41.59.51 0 1.02-.2 1.41-.59l7.78-7.78 2.81-2.81c.8-.78.8-2.07 0-2.86zM5.41 20L4 18.59l7.72-7.72 1.47 1.35L5.41 20z\"/>\n",
              "  </svg>\n",
              "      </button>\n",
              "      \n",
              "  <style>\n",
              "    .colab-df-container {\n",
              "      display:flex;\n",
              "      flex-wrap:wrap;\n",
              "      gap: 12px;\n",
              "    }\n",
              "\n",
              "    .colab-df-convert {\n",
              "      background-color: #E8F0FE;\n",
              "      border: none;\n",
              "      border-radius: 50%;\n",
              "      cursor: pointer;\n",
              "      display: none;\n",
              "      fill: #1967D2;\n",
              "      height: 32px;\n",
              "      padding: 0 0 0 0;\n",
              "      width: 32px;\n",
              "    }\n",
              "\n",
              "    .colab-df-convert:hover {\n",
              "      background-color: #E2EBFA;\n",
              "      box-shadow: 0px 1px 2px rgba(60, 64, 67, 0.3), 0px 1px 3px 1px rgba(60, 64, 67, 0.15);\n",
              "      fill: #174EA6;\n",
              "    }\n",
              "\n",
              "    [theme=dark] .colab-df-convert {\n",
              "      background-color: #3B4455;\n",
              "      fill: #D2E3FC;\n",
              "    }\n",
              "\n",
              "    [theme=dark] .colab-df-convert:hover {\n",
              "      background-color: #434B5C;\n",
              "      box-shadow: 0px 1px 3px 1px rgba(0, 0, 0, 0.15);\n",
              "      filter: drop-shadow(0px 1px 2px rgba(0, 0, 0, 0.3));\n",
              "      fill: #FFFFFF;\n",
              "    }\n",
              "  </style>\n",
              "\n",
              "      <script>\n",
              "        const buttonEl =\n",
              "          document.querySelector('#df-a45da5d2-0a10-407b-bda6-440e976f287e button.colab-df-convert');\n",
              "        buttonEl.style.display =\n",
              "          google.colab.kernel.accessAllowed ? 'block' : 'none';\n",
              "\n",
              "        async function convertToInteractive(key) {\n",
              "          const element = document.querySelector('#df-a45da5d2-0a10-407b-bda6-440e976f287e');\n",
              "          const dataTable =\n",
              "            await google.colab.kernel.invokeFunction('convertToInteractive',\n",
              "                                                     [key], {});\n",
              "          if (!dataTable) return;\n",
              "\n",
              "          const docLinkHtml = 'Like what you see? Visit the ' +\n",
              "            '<a target=\"_blank\" href=https://colab.research.google.com/notebooks/data_table.ipynb>data table notebook</a>'\n",
              "            + ' to learn more about interactive tables.';\n",
              "          element.innerHTML = '';\n",
              "          dataTable['output_type'] = 'display_data';\n",
              "          await google.colab.output.renderOutput(dataTable, element);\n",
              "          const docLink = document.createElement('div');\n",
              "          docLink.innerHTML = docLinkHtml;\n",
              "          element.appendChild(docLink);\n",
              "        }\n",
              "      </script>\n",
              "    </div>\n",
              "  </div>\n",
              "  "
            ]
          },
          "metadata": {},
          "execution_count": 10
        }
      ],
      "source": [
        "#shows the data distribution \n",
        "\n",
        "df.describe()"
      ]
    },
    {
      "cell_type": "code",
      "execution_count": 11,
      "metadata": {
        "colab": {
          "base_uri": "https://localhost:8080/",
          "height": 617
        },
        "id": "aSg_hiDnfvhe",
        "outputId": "3fb7d838-18d1-4f4c-af1b-ad38814778ab"
      },
      "outputs": [
        {
          "output_type": "display_data",
          "data": {
            "text/html": [
              "<html>\n",
              "<head><meta charset=\"utf-8\" /></head>\n",
              "<body>\n",
              "    <div>            <script src=\"https://cdnjs.cloudflare.com/ajax/libs/mathjax/2.7.5/MathJax.js?config=TeX-AMS-MML_SVG\"></script><script type=\"text/javascript\">if (window.MathJax && window.MathJax.Hub && window.MathJax.Hub.Config) {window.MathJax.Hub.Config({SVG: {font: \"STIX-Web\"}});}</script>                <script type=\"text/javascript\">window.PlotlyConfig = {MathJaxConfig: 'local'};</script>\n",
              "        <script src=\"https://cdn.plot.ly/plotly-2.18.2.min.js\"></script>                <div id=\"77c99d9a-0915-47b1-add3-03c8d76daffc\" class=\"plotly-graph-div\" style=\"height:600px; width:1110px;\"></div>            <script type=\"text/javascript\">                                    window.PLOTLYENV=window.PLOTLYENV || {};                                    if (document.getElementById(\"77c99d9a-0915-47b1-add3-03c8d76daffc\")) {                    Plotly.newPlot(                        \"77c99d9a-0915-47b1-add3-03c8d76daffc\",                        [{\"name\":\"Cell Type\",\"x\":[\"nv\",\"mel\",\"bkl\",\"bcc\",\"akiec\",\"vasc\",\"df\"],\"y\":[6705,1113,1099,514,327,142,115],\"type\":\"bar\",\"xaxis\":\"x\",\"yaxis\":\"y\"},{\"name\":\"Localization\",\"x\":[\"back\",\"lower extremity\",\"trunk\",\"upper extremity\",\"abdomen\",\"face\",\"chest\",\"foot\",\"unknown\",\"neck\",\"scalp\",\"hand\",\"ear\",\"genital\",\"acral\"],\"y\":[2192,2077,1404,1118,1022,745,407,319,234,168,128,90,56,48,7],\"type\":\"bar\",\"xaxis\":\"x2\",\"yaxis\":\"y2\"},{\"marker\":{\"color\":\"red\"},\"name\":\"Age\",\"x\":[80.0,80.0,80.0,80.0,75.0,75.0,60.0,60.0,70.0,70.0,55.0,85.0,85.0,70.0,70.0,65.0,75.0,75.0,70.0,70.0,70.0,60.0,60.0,75.0,75.0,40.0,40.0,40.0,40.0,70.0,70.0,60.0,60.0,80.0,80.0,85.0,85.0,85.0,85.0,85.0,85.0,60.0,60.0,50.0,50.0,50.0,75.0,75.0,40.0,40.0,80.0,75.0,75.0,45.0,45.0,70.0,75.0,75.0,60.0,50.0,75.0,75.0,75.0,75.0,70.0,40.0,40.0,60.0,60.0,70.0,70.0,70.0,70.0,75.0,75.0,60.0,60.0,60.0,75.0,75.0,75.0,75.0,40.0,40.0,40.0,40.0,35.0,35.0,80.0,80.0,60.0,60.0,60.0,65.0,65.0,60.0,70.0,40.0,40.0,70.0,70.0,85.0,75.0,75.0,55.0,65.0,65.0,50.0,50.0,55.0,55.0,65.0,65.0,85.0,85.0,50.0,50.0,0.0,0.0,75.0,60.0,55.0,55.0,55.0,55.0,55.0,75.0,75.0,85.0,85.0,85.0,50.0,50.0,50.0,55.0,55.0,55.0,60.0,55.0,55.0,65.0,85.0,85.0,75.0,75.0,75.0,75.0,50.0,50.0,50.0,60.0,60.0,60.0,45.0,45.0,45.0,80.0,80.0,80.0,80.0,70.0,45.0,45.0,45.0,50.0,50.0,50.0,40.0,40.0,80.0,80.0,60.0,60.0,60.0,60.0,60.0,60.0,60.0,60.0,60.0,75.0,75.0,60.0,60.0,60.0,60.0,85.0,85.0,85.0,85.0,85.0,65.0,65.0,85.0,85.0,60.0,60.0,60.0,80.0,80.0,65.0,80.0,80.0,45.0,45.0,45.0,55.0,55.0,85.0,85.0,45.0,45.0,40.0,40.0,40.0,40.0,35.0,35.0,80.0,80.0,80.0,70.0,70.0,60.0,60.0,60.0,75.0,75.0,75.0,75.0,75.0,75.0,75.0,75.0,80.0,80.0,65.0,65.0,65.0,85.0,85.0,50.0,50.0,50.0,65.0,70.0,70.0,70.0,75.0,75.0,75.0,75.0,75.0,65.0,65.0,75.0,75.0,60.0,60.0,60.0,60.0,60.0,80.0,80.0,80.0,80.0,70.0,85.0,40.0,65.0,45.0,85.0,65.0,55.0,70.0,50.0,70.0,75.0,75.0,55.0,70.0,50.0,50.0,50.0,50.0,80.0,50.0,70.0,60.0,55.0,80.0,70.0,60.0,65.0,70.0,50.0,55.0,65.0,80.0,50.0,75.0,65.0,60.0,80.0,85.0,45.0,55.0,40.0,75.0,75.0,60.0,60.0,65.0,80.0,50.0,70.0,80.0,60.0,65.0,60.0,75.0,70.0,40.0,80.0,65.0,60.0,85.0,60.0,65.0,60.0,50.0,50.0,80.0,50.0,40.0,85.0,70.0,70.0,70.0,35.0,70.0,70.0,40.0,85.0,50.0,70.0,55.0,45.0,65.0,50.0,65.0,80.0,65.0,85.0,85.0,60.0,75.0,85.0,75.0,65.0,65.0,65.0,65.0,65.0,85.0,60.0,60.0,70.0,45.0,80.0,65.0,75.0,65.0,75.0,35.0,75.0,35.0,75.0,70.0,60.0,65.0,60.0,60.0,85.0,60.0,70.0,45.0,45.0,70.0,40.0,45.0,70.0,70.0,65.0,65.0,55.0,55.0,75.0,55.0,85.0,85.0,85.0,50.0,75.0,75.0,65.0,70.0,50.0,80.0,80.0,70.0,70.0,40.0,65.0,60.0,60.0,70.0,65.0,70.0,85.0,80.0,65.0,40.0,75.0,75.0,75.0,70.0,50.0,50.0,35.0,70.0,40.0,85.0,60.0,70.0,70.0,70.0,35.0,75.0,75.0,75.0,80.0,70.0,60.0,85.0,85.0,85.0,85.0,70.0,55.0,70.0,65.0,70.0,60.0,60.0,65.0,50.0,80.0,75.0,55.0,55.0,50.0,50.0,75.0,40.0,40.0,75.0,70.0,35.0,70.0,70.0,70.0,50.0,75.0,75.0,50.0,50.0,70.0,60.0,30.0,55.0,55.0,60.0,60.0,75.0,75.0,65.0,70.0,60.0,45.0,45.0,70.0,75.0,55.0,60.0,55.0,50.0,50.0,70.0,80.0,60.0,60.0,75.0,65.0,75.0,75.0,70.0,70.0,80.0,80.0,50.0,80.0,85.0,75.0,75.0,75.0,75.0,60.0,55.0,70.0,80.0,80.0,80.0,75.0,75.0,70.0,60.0,70.0,50.0,65.0,70.0,50.0,70.0,60.0,65.0,60.0,60.0,80.0,75.0,55.0,85.0,55.0,55.0,55.0,55.0,55.0,40.0,40.0,40.0,35.0,55.0,70.0,70.0,50.0,65.0,45.0,70.0,70.0,65.0,50.0,80.0,45.0,65.0,80.0,55.0,45.0,55.0,60.0,60.0,60.0,60.0,85.0,40.0,40.0,70.0,45.0,85.0,85.0,55.0,75.0,85.0,70.0,60.0,65.0,55.0,55.0,60.0,60.0,65.0,50.0,55.0,85.0,75.0,65.0,65.0,70.0,70.0,70.0,50.0,50.0,65.0,70.0,65.0,75.0,60.0,50.0,70.0,55.0,70.0,35.0,50.0,70.0,70.0,65.0,70.0,80.0,75.0,60.0,75.0,55.0,45.0,45.0,75.0,45.0,50.0,70.0,70.0,85.0,85.0,45.0,45.0,45.0,65.0,45.0,70.0,40.0,55.0,80.0,65.0,65.0,65.0,60.0,65.0,60.0,55.0,65.0,65.0,55.0,55.0,50.0,50.0,50.0,85.0,85.0,60.0,60.0,55.0,80.0,80.0,85.0,75.0,55.0,35.0,45.0,50.0,65.0,45.0,35.0,60.0,65.0,60.0,65.0,60.0,65.0,45.0,65.0,85.0,40.0,40.0,40.0,40.0,45.0,75.0,60.0,45.0,45.0,45.0,80.0,80.0,80.0,70.0,80.0,60.0,80.0,80.0,55.0,75.0,55.0,85.0,70.0,75.0,60.0,65.0,65.0,85.0,85.0,80.0,70.0,70.0,70.0,70.0,60.0,70.0,65.0,65.0,80.0,65.0,60.0,75.0,60.0,70.0,65.0,65.0,70.0,70.0,55.0,70.0,65.0,85.0,85.0,60.0,70.0,85.0,30.0,70.0,70.0,75.0,65.0,65.0,65.0,85.0,65.0,70.0,60.0,60.0,70.0,70.0,60.0,60.0,75.0,75.0,70.0,75.0,65.0,55.0,80.0,60.0,70.0,85.0,85.0,70.0,60.0,85.0,85.0,65.0,75.0,75.0,65.0,65.0,60.0,70.0,70.0,80.0,80.0,80.0,80.0,75.0,75.0,85.0,70.0,70.0,75.0,65.0,65.0,85.0,60.0,60.0,75.0,75.0,75.0,75.0,50.0,50.0,50.0,50.0,85.0,85.0,75.0,75.0,45.0,45.0,35.0,35.0,80.0,80.0,55.0,55.0,55.0,55.0,50.0,50.0,75.0,65.0,65.0,70.0,65.0,65.0,55.0,55.0,55.0,55.0,40.0,40.0,70.0,70.0,70.0,70.0,70.0,65.0,65.0,65.0,65.0,75.0,75.0,75.0,75.0,30.0,30.0,30.0,30.0,75.0,75.0,70.0,70.0,70.0,70.0,70.0,65.0,65.0,60.0,65.0,65.0,75.0,75.0,60.0,60.0,55.0,55.0,55.0,55.0,55.0,80.0,75.0,55.0,55.0,0.0,0.0,55.0,55.0,55.0,55.0,55.0,70.0,70.0,70.0,70.0,55.0,55.0,85.0,85.0,85.0,85.0,50.0,75.0,60.0,75.0,75.0,75.0,50.0,50.0,50.0,65.0,65.0,70.0,75.0,75.0,35.0,35.0,45.0,45.0,65.0,65.0,0.0,70.0,70.0,80.0,80.0,85.0,50.0,50.0,50.0,60.0,60.0,70.0,75.0,65.0,55.0,45.0,45.0,70.0,70.0,70.0,70.0,70.0,80.0,80.0,80.0,85.0,85.0,85.0,85.0,55.0,55.0,85.0,85.0,85.0,85.0,85.0,85.0,85.0,85.0,85.0,70.0,70.0,70.0,70.0,70.0,70.0,70.0,70.0,70.0,70.0,70.0,70.0,70.0,80.0,80.0,80.0,80.0,80.0,80.0,80.0,60.0,60.0,60.0,60.0,60.0,60.0,60.0,55.0,55.0,55.0,45.0,65.0,45.0,50.0,55.0,55.0,55.0,60.0,35.0,35.0,35.0,65.0,45.0,45.0,45.0,50.0,50.0,70.0,70.0,70.0,70.0,70.0,70.0,70.0,70.0,70.0,70.0,80.0,80.0,80.0,80.0,80.0,80.0,80.0,80.0,80.0,80.0,80.0,55.0,55.0,55.0,70.0,70.0,70.0,70.0,70.0,70.0,75.0,75.0,75.0,75.0,75.0,75.0,5.0,55.0,45.0,45.0,45.0,55.0,80.0,80.0,75.0,75.0,50.0,50.0,50.0,45.0,50.0,50.0,50.0,50.0,50.0,75.0,75.0,75.0,75.0,75.0,75.0,75.0,35.0,60.0,60.0,70.0,70.0,45.0,55.0,75.0,75.0,75.0,75.0,60.0,45.0,45.0,45.0,70.0,70.0,70.0,70.0,70.0,70.0,70.0,70.0,70.0,70.0,70.0,70.0,70.0,35.0,35.0,75.0,75.0,75.0,75.0,75.0,75.0,55.0,55.0,50.0,50.0,75.0,75.0,70.0,70.0,50.0,50.0,65.0,65.0,30.0,55.0,50.0,50.0,50.0,50.0,50.0,55.0,55.0,75.0,75.0,30.0,60.0,50.0,50.0,55.0,55.0,55.0,65.0,65.0,35.0,65.0,40.0,40.0,60.0,45.0,45.0,45.0,75.0,75.0,80.0,80.0,80.0,65.0,65.0,65.0,65.0,65.0,55.0,65.0,65.0,50.0,50.0,50.0,50.0,30.0,30.0,60.0,60.0,65.0,65.0,65.0,40.0,40.0,40.0,40.0,25.0,25.0,35.0,35.0,35.0,35.0,35.0,35.0,45.0,45.0,45.0,45.0,45.0,45.0,45.0,40.0,50.0,50.0,50.0,65.0,65.0,45.0,60.0,75.0,55.0,45.0,60.0,55.0,55.0,45.0,55.0,40.0,65.0,60.0,60.0,70.0,70.0,35.0,35.0,35.0,35.0,35.0,45.0,40.0,60.0,45.0,40.0,40.0,80.0,60.0,60.0,40.0,45.0,55.0,55.0,70.0,55.0,55.0,85.0,85.0,60.0,60.0,25.0,75.0,75.0,75.0,55.0,55.0,80.0,85.0,85.0,45.0,45.0,70.0,70.0,75.0,75.0,55.0,55.0,70.0,35.0,35.0,35.0,35.0,50.0,50.0,75.0,75.0,55.0,55.0,70.0,70.0,40.0,40.0,60.0,50.0,50.0,50.0,50.0,75.0,55.0,55.0,70.0,45.0,45.0,65.0,65.0,80.0,80.0,60.0,60.0,65.0,55.0,80.0,80.0,75.0,75.0,65.0,65.0,80.0,80.0,70.0,70.0,30.0,30.0,50.0,50.0,75.0,30.0,30.0,75.0,80.0,85.0,85.0,50.0,80.0,80.0,50.0,50.0,75.0,35.0,35.0,75.0,65.0,65.0,55.0,55.0,35.0,70.0,70.0,75.0,75.0,80.0,80.0,75.0,85.0,85.0,80.0,80.0,40.0,40.0,55.0,55.0,65.0,60.0,60.0,80.0,80.0,70.0,70.0,60.0,75.0,75.0,75.0,55.0,55.0,65.0,65.0,85.0,45.0,45.0,80.0,80.0,70.0,70.0,60.0,85.0,85.0,30.0,30.0,35.0,75.0,55.0,55.0,75.0,75.0,45.0,45.0,70.0,70.0,50.0,50.0,55.0,55.0,65.0,65.0,45.0,45.0,70.0,70.0,70.0,50.0,60.0,60.0,65.0,70.0,75.0,75.0,85.0,75.0,45.0,45.0,85.0,85.0,85.0,85.0,85.0,85.0,85.0,85.0,75.0,80.0,80.0,55.0,35.0,75.0,70.0,70.0,45.0,45.0,70.0,70.0,70.0,75.0,75.0,55.0,55.0,45.0,65.0,65.0,60.0,60.0,60.0,60.0,75.0,75.0,75.0,75.0,70.0,70.0,60.0,75.0,60.0,85.0,85.0,50.0,60.0,50.0,50.0,30.0,30.0,70.0,70.0,65.0,65.0,75.0,75.0,85.0,45.0,70.0,70.0,70.0,65.0,65.0,60.0,60.0,60.0,55.0,55.0,55.0,45.0,45.0,55.0,55.0,55.0,60.0,40.0,40.0,50.0,50.0,55.0,70.0,70.0,75.0,75.0,45.0,45.0,25.0,70.0,50.0,50.0,55.0,55.0,60.0,60.0,60.0,80.0,80.0,75.0,75.0,45.0,45.0,45.0,70.0,75.0,75.0,70.0,85.0,85.0,85.0,70.0,70.0,70.0,65.0,75.0,75.0,55.0,55.0,55.0,70.0,25.0,25.0,25.0,25.0,70.0,70.0,70.0,70.0,70.0,70.0,70.0,70.0,70.0,80.0,80.0,80.0,70.0,70.0,70.0,70.0,70.0,70.0,45.0,45.0,45.0,55.0,55.0,55.0,70.0,70.0,70.0,70.0,70.0,70.0,85.0,40.0,40.0,80.0,70.0,70.0,75.0,75.0,75.0,75.0,75.0,75.0,35.0,35.0,30.0,30.0,30.0,30.0,30.0,75.0,30.0,30.0,30.0,75.0,75.0,55.0,55.0,55.0,50.0,50.0,50.0,30.0,30.0,30.0,60.0,60.0,80.0,80.0,80.0,65.0,65.0,65.0,55.0,55.0,55.0,85.0,85.0,55.0,60.0,60.0,60.0,85.0,65.0,65.0,45.0,50.0,50.0,50.0,60.0,60.0,60.0,60.0,60.0,60.0,60.0,70.0,70.0,70.0,70.0,70.0,70.0,70.0,70.0,70.0,70.0,70.0,70.0,65.0,65.0,65.0,65.0,80.0,80.0,80.0,50.0,50.0,50.0,30.0,30.0,30.0,30.0,65.0,65.0,65.0,65.0,70.0,70.0,35.0,35.0,85.0,40.0,40.0,35.0,35.0,35.0,30.0,30.0,30.0,50.0,50.0,50.0,70.0,70.0,80.0,80.0,85.0,85.0,40.0,65.0,65.0,65.0,65.0,65.0,65.0,75.0,65.0,55.0,55.0,55.0,55.0,55.0,55.0,55.0,55.0,55.0,50.0,65.0,65.0,65.0,65.0,65.0,75.0,75.0,75.0,45.0,45.0,45.0,55.0,55.0,55.0,85.0,85.0,60.0,60.0,65.0,70.0,70.0,70.0,45.0,45.0,45.0,70.0,70.0,70.0,55.0,65.0,65.0,60.0,85.0,70.0,70.0,80.0,40.0,40.0,40.0,70.0,70.0,70.0,70.0,70.0,70.0,85.0,85.0,85.0,65.0,50.0,50.0,65.0,50.0,50.0,50.0,50.0,65.0,65.0,65.0,70.0,70.0,80.0,40.0,70.0,70.0,50.0,50.0,50.0,55.0,40.0,85.0,85.0,80.0,80.0,80.0,60.0,60.0,60.0,45.0,55.0,45.0,45.0,45.0,60.0,55.0,55.0,55.0,55.0,55.0,45.0,45.0,60.0,50.0,70.0,35.0,45.0,85.0,85.0,70.0,60.0,85.0,85.0,75.0,40.0,40.0,40.0,55.0,70.0,70.0,70.0,55.0,55.0,55.0,40.0,40.0,55.0,55.0,70.0,40.0,40.0,40.0,40.0,25.0,25.0,25.0,20.0,20.0,20.0,80.0,80.0,80.0,80.0,80.0,70.0,70.0,70.0,70.0,65.0,65.0,65.0,65.0,65.0,65.0,65.0,60.0,75.0,60.0,65.0,65.0,65.0,70.0,70.0,85.0,85.0,40.0,40.0,70.0,70.0,80.0,80.0,75.0,75.0,80.0,45.0,45.0,80.0,80.0,55.0,55.0,55.0,55.0,60.0,45.0,45.0,55.0,55.0,60.0,60.0,60.0,35.0,35.0,80.0,80.0,25.0,25.0,25.0,75.0,75.0,65.0,65.0,65.0,80.0,60.0,65.0,50.0,50.0,50.0,75.0,75.0,50.0,50.0,50.0,50.0,70.0,70.0,65.0,65.0,75.0,75.0,60.0,70.0,70.0,45.0,70.0,70.0,70.0,50.0,50.0,35.0,50.0,70.0,70.0,45.0,45.0,45.0,45.0,80.0,50.0,50.0,55.0,55.0,50.0,40.0,40.0,40.0,65.0,65.0,60.0,60.0,45.0,60.0,70.0,70.0,55.0,55.0,80.0,70.0,80.0,85.0,85.0,85.0,55.0,85.0,75.0,50.0,80.0,45.0,55.0,55.0,80.0,60.0,65.0,30.0,70.0,70.0,70.0,35.0,55.0,55.0,45.0,65.0,60.0,65.0,65.0,60.0,55.0,35.0,35.0,60.0,60.0,60.0,55.0,75.0,75.0,50.0,50.0,40.0,40.0,40.0,60.0,30.0,30.0,65.0,65.0,65.0,35.0,40.0,40.0,75.0,75.0,55.0,55.0,70.0,50.0,50.0,50.0,50.0,50.0,50.0,70.0,70.0,70.0,55.0,55.0,85.0,70.0,55.0,35.0,50.0,50.0,50.0,5.0,45.0,45.0,40.0,50.0,30.0,80.0,50.0,45.0,70.0,35.0,35.0,55.0,70.0,75.0,30.0,40.0,80.0,45.0,65.0,40.0,60.0,85.0,70.0,70.0,65.0,45.0,35.0,85.0,60.0,50.0,70.0,65.0,70.0,70.0,65.0,85.0,60.0,85.0,75.0,20.0,35.0,55.0,70.0,40.0,45.0,45.0,55.0,70.0,40.0,65.0,70.0,35.0,70.0,70.0,80.0,45.0,20.0,65.0,65.0,65.0,50.0,80.0,65.0,60.0,50.0,30.0,65.0,65.0,80.0,70.0,65.0,80.0,40.0,65.0,70.0,60.0,45.0,65.0,35.0,65.0,70.0,80.0,80.0,70.0,50.0,80.0,55.0,55.0,55.0,55.0,70.0,75.0,75.0,85.0,85.0,60.0,60.0,60.0,70.0,55.0,65.0,35.0,70.0,60.0,70.0,60.0,85.0,20.0,60.0,60.0,60.0,55.0,60.0,75.0,60.0,45.0,45.0,40.0,60.0,60.0,60.0,50.0,50.0,80.0,55.0,50.0,80.0,50.0,50.0,60.0,50.0,50.0,60.0,65.0,65.0,70.0,70.0,65.0,65.0,55.0,40.0,60.0,40.0,80.0,60.0,55.0,55.0,55.0,65.0,70.0,65.0,65.0,60.0,85.0,65.0,85.0,60.0,50.0,50.0,65.0,65.0,75.0,75.0,65.0,85.0,65.0,85.0,70.0,60.0,65.0,35.0,80.0,50.0,65.0,65.0,80.0,55.0,60.0,60.0,65.0,35.0,85.0,65.0,70.0,80.0,65.0,80.0,70.0,50.0,50.0,50.0,55.0,55.0,70.0,70.0,60.0,60.0,65.0,65.0,60.0,85.0,60.0,60.0,60.0,60.0,75.0,75.0,85.0,75.0,85.0,75.0,75.0,65.0,65.0,55.0,50.0,35.0,25.0,80.0,80.0,35.0,50.0,50.0,55.0,55.0,70.0,65.0,85.0,65.0,65.0,60.0,55.0,55.0,55.0,70.0,65.0,60.0,60.0,85.0,55.0,55.0,85.0,85.0,55.0,55.0,85.0,65.0,60.0,65.0,75.0,85.0,55.0,45.0,80.0,65.0,75.0,65.0,75.0,55.0,30.0,80.0,80.0,55.0,55.0,55.0,55.0,45.0,45.0,50.0,80.0,55.0,40.0,30.0,55.0,55.0,45.0,55.0,40.0,75.0,65.0,80.0,45.0,45.0,60.0,85.0,70.0,65.0,80.0,65.0,65.0,80.0,45.0,45.0,50.0,50.0,50.0,75.0,80.0,80.0,65.0,65.0,45.0,70.0,55.0,55.0,55.0,85.0,55.0,55.0,55.0,60.0,65.0,65.0,85.0,55.0,55.0,55.0,75.0,45.0,50.0,65.0,20.0,20.0,55.0,55.0,85.0,85.0,10.0,10.0,75.0,75.0,25.0,25.0,15.0,15.0,5.0,5.0,60.0,60.0,75.0,75.0,65.0,65.0,80.0,40.0,20.0,20.0,55.0,55.0,50.0,50.0,55.0,55.0,55.0,45.0,60.0,15.0,15.0,45.0,45.0,45.0,35.0,35.0,35.0,45.0,45.0,45.0,55.0,55.0,55.0,55.0,80.0,80.0,80.0,25.0,25.0,25.0,60.0,60.0,60.0,80.0,80.0,55.0,70.0,40.0,60.0,85.0,85.0,45.0,0.0,0.0,70.0,70.0,30.0,30.0,75.0,75.0,70.0,70.0,0.0,0.0,45.0,45.0,85.0,70.0,70.0,70.0,70.0,70.0,50.0,50.0,45.0,55.0,60.0,35.0,50.0,50.0,50.0,80.0,45.0,45.0,45.0,70.0,35.0,5.0,45.0,55.0,80.0,80.0,80.0,80.0,75.0,75.0,45.0,50.0,65.0,65.0,50.0,40.0,55.0,55.0,35.0,35.0,30.0,70.0,70.0,30.0,30.0,35.0,75.0,75.0,75.0,70.0,50.0,50.0,50.0,55.0,55.0,55.0,55.0,55.0,60.0,60.0,50.0,80.0,50.0,50.0,50.0,50.0,85.0,85.0,85.0,45.0,45.0,70.0,70.0,60.0,80.0,80.0,80.0,65.0,65.0,70.0,70.0,70.0,50.0,50.0,45.0,80.0,85.0,85.0,80.0,80.0,75.0,75.0,70.0,70.0,85.0,70.0,65.0,65.0,50.0,50.0,75.0,75.0,85.0,85.0,40.0,40.0,40.0,40.0,60.0,60.0,65.0,65.0,75.0,75.0,80.0,80.0,75.0,75.0,60.0,85.0,85.0,50.0,50.0,75.0,80.0,80.0,80.0,80.0,70.0,70.0,75.0,75.0,70.0,70.0,70.0,75.0,75.0,85.0,85.0,65.0,65.0,70.0,70.0,70.0,70.0,75.0,75.0,75.0,75.0,60.0,60.0,65.0,50.0,50.0,50.0,50.0,85.0,85.0,80.0,80.0,60.0,40.0,40.0,40.0,85.0,85.0,80.0,75.0,55.0,55.0,85.0,85.0,65.0,70.0,70.0,35.0,35.0,35.0,65.0,65.0,55.0,75.0,75.0,75.0,55.0,55.0,70.0,85.0,75.0,75.0,50.0,75.0,75.0,50.0,50.0,75.0,75.0,50.0,50.0,50.0,75.0,75.0,75.0,75.0,75.0,75.0,20.0,70.0,70.0,65.0,65.0,65.0,55.0,25.0,25.0,25.0,60.0,60.0,60.0,60.0,60.0,60.0,70.0,70.0,70.0,70.0,60.0,60.0,45.0,45.0,30.0,30.0,40.0,40.0,80.0,80.0,80.0,80.0,80.0,65.0,65.0,65.0,65.0,65.0,65.0,85.0,85.0,85.0,85.0,70.0,70.0,80.0,80.0,65.0,65.0,45.0,45.0,85.0,85.0,70.0,70.0,70.0,80.0,80.0,80.0,80.0,40.0,40.0,60.0,30.0,30.0,70.0,55.0,85.0,65.0,60.0,65.0,65.0,80.0,80.0,75.0,80.0,60.0,70.0,70.0,40.0,55.0,50.0,45.0,75.0,75.0,75.0,65.0,65.0,60.0,85.0,75.0,60.0,85.0,70.0,75.0,60.0,70.0,70.0,70.0,70.0,70.0,85.0,70.0,70.0,65.0,65.0,70.0,70.0,45.0,45.0,45.0,70.0,70.0,80.0,65.0,65.0,55.0,85.0,70.0,70.0,75.0,65.0,65.0,65.0,65.0,65.0,65.0,60.0,85.0,85.0,70.0,80.0,50.0,75.0,80.0,65.0,65.0,45.0,70.0,75.0,70.0,75.0,80.0,40.0,45.0,65.0,40.0,65.0,75.0,55.0,80.0,80.0,80.0,80.0,80.0,45.0,85.0,85.0,85.0,45.0,55.0,80.0,80.0,80.0,80.0,75.0,65.0,80.0,80.0,80.0,65.0,65.0,65.0,40.0,40.0,40.0,75.0,75.0,75.0,65.0,55.0,85.0,85.0,85.0,70.0,80.0,65.0,55.0,65.0,70.0,75.0,45.0,80.0,80.0,55.0,55.0,55.0,80.0,85.0,85.0,75.0,65.0,70.0,40.0,40.0,50.0,65.0,65.0,65.0,45.0,80.0,55.0,70.0,65.0,80.0,75.0,85.0,75.0,70.0,70.0,70.0,75.0,60.0,60.0,70.0,70.0,70.0,65.0,65.0,50.0,80.0,80.0,65.0,65.0,65.0,65.0,80.0,80.0,70.0,40.0,70.0,70.0,85.0,75.0,75.0,75.0,75.0,70.0,80.0,80.0,75.0,80.0,80.0,80.0,85.0,60.0,75.0,65.0,85.0,85.0,85.0,85.0,70.0,70.0,65.0,65.0,45.0,45.0,85.0,75.0,75.0,75.0,55.0,55.0,65.0,65.0,65.0,65.0,65.0,80.0,80.0,80.0,80.0,80.0,60.0,65.0,65.0,45.0,45.0,70.0,70.0,60.0,65.0,85.0,65.0,75.0,85.0,80.0,75.0,70.0,35.0,35.0,70.0,70.0,80.0,60.0,70.0,70.0,55.0,55.0,65.0,65.0,60.0,70.0,75.0,45.0,60.0,55.0,70.0,75.0,80.0,60.0,60.0,70.0,40.0,85.0,60.0,80.0,80.0,80.0,70.0,45.0,45.0,65.0,65.0,60.0,75.0,75.0,70.0,45.0,55.0,75.0,75.0,75.0,75.0,55.0,50.0,80.0,75.0,65.0,70.0,60.0,65.0,85.0,75.0,55.0,70.0,50.0,65.0,75.0,75.0,70.0,70.0,45.0,70.0,70.0,40.0,40.0,45.0,45.0,55.0,45.0,45.0,45.0,40.0,45.0,45.0,45.0,45.0,45.0,45.0,45.0,45.0,45.0,45.0,45.0,45.0,45.0,50.0,50.0,50.0,50.0,50.0,50.0,50.0,50.0,50.0,50.0,50.0,50.0,50.0,50.0,50.0,50.0,50.0,50.0,50.0,50.0,50.0,50.0,50.0,50.0,50.0,45.0,40.0,60.0,45.0,45.0,45.0,40.0,45.0,40.0,45.0,45.0,45.0,45.0,45.0,45.0,60.0,45.0,45.0,45.0,45.0,45.0,55.0,55.0,55.0,55.0,55.0,55.0,55.0,45.0,55.0,45.0,45.0,45.0,50.0,55.0,35.0,55.0,55.0,55.0,55.0,55.0,55.0,55.0,55.0,55.0,55.0,55.0,55.0,55.0,55.0,55.0,55.0,55.0,55.0,55.0,55.0,55.0,55.0,55.0,45.0,45.0,45.0,45.0,45.0,45.0,45.0,45.0,20.0,55.0,45.0,45.0,45.0,60.0,45.0,45.0,45.0,45.0,45.0,45.0,65.0,45.0,45.0,45.0,75.0,45.0,45.0,30.0,75.0,75.0,50.0,50.0,50.0,5.0,50.0,50.0,50.0,45.0,50.0,50.0,45.0,45.0,45.0,45.0,45.0,60.0,45.0,45.0,45.0,45.0,45.0,45.0,45.0,45.0,45.0,65.0,35.0,65.0,65.0,55.0,35.0,65.0,65.0,65.0,40.0,50.0,65.0,50.0,50.0,50.0,50.0,50.0,50.0,50.0,50.0,50.0,50.0,50.0,50.0,50.0,50.0,50.0,50.0,50.0,50.0,50.0,50.0,50.0,40.0,45.0,50.0,50.0,50.0,50.0,50.0,50.0,50.0,50.0,50.0,50.0,50.0,50.0,40.0,40.0,40.0,40.0,40.0,40.0,40.0,45.0,40.0,40.0,40.0,40.0,40.0,70.0,35.0,35.0,45.0,45.0,45.0,45.0,45.0,45.0,45.0,45.0,45.0,45.0,45.0,45.0,45.0,45.0,45.0,45.0,45.0,45.0,50.0,40.0,25.0,25.0,25.0,35.0,45.0,55.0,55.0,55.0,55.0,55.0,55.0,55.0,55.0,55.0,55.0,55.0,55.0,55.0,55.0,55.0,65.0,30.0,75.0,45.0,75.0,50.0,50.0,50.0,50.0,55.0,50.0,50.0,50.0,50.0,60.0,50.0,50.0,50.0,50.0,50.0,50.0,50.0,50.0,50.0,50.0,50.0,50.0,50.0,50.0,50.0,50.0,50.0,35.0,35.0,35.0,35.0,75.0,35.0,35.0,60.0,35.0,35.0,35.0,60.0,45.0,45.0,45.0,45.0,45.0,45.0,45.0,45.0,45.0,45.0,45.0,45.0,50.0,45.0,45.0,45.0,45.0,45.0,55.0,45.0,45.0,45.0,45.0,45.0,45.0,45.0,45.0,45.0,45.0,45.0,45.0,40.0,45.0,45.0,45.0,45.0,45.0,45.0,45.0,45.0,45.0,50.0,45.0,45.0,50.0,45.0,45.0,45.0,45.0,45.0,45.0,45.0,45.0,45.0,45.0,45.0,75.0,75.0,80.0,45.0,50.0,35.0,45.0,50.0,50.0,50.0,50.0,50.0,45.0,45.0,45.0,45.0,45.0,55.0,50.0,70.0,50.0,50.0,50.0,50.0,55.0,55.0,55.0,55.0,55.0,55.0,55.0,55.0,55.0,55.0,55.0,35.0,55.0,55.0,55.0,40.0,40.0,35.0,40.0,40.0,40.0,40.0,40.0,40.0,40.0,40.0,40.0,40.0,40.0,40.0,40.0,40.0,60.0,55.0,55.0,25.0,55.0,55.0,35.0,40.0,55.0,55.0,55.0,55.0,55.0,45.0,45.0,45.0,45.0,55.0,40.0,50.0,45.0,30.0,45.0,45.0,45.0,45.0,55.0,40.0,45.0,45.0,45.0,45.0,45.0,55.0,55.0,55.0,60.0,60.0,60.0,60.0,60.0,60.0,75.0,45.0,60.0,60.0,45.0,45.0,55.0,45.0,45.0,45.0,45.0,45.0,65.0,40.0,40.0,55.0,40.0,40.0,40.0,40.0,40.0,40.0,40.0,50.0,45.0,50.0,45.0,45.0,45.0,45.0,45.0,45.0,45.0,45.0,45.0,45.0,45.0,45.0,45.0,45.0,45.0,35.0,35.0,35.0,35.0,35.0,35.0,35.0,35.0,35.0,35.0,35.0,35.0,35.0,35.0,35.0,35.0,35.0,35.0,35.0,35.0,35.0,35.0,50.0,35.0,35.0,35.0,35.0,35.0,35.0,35.0,35.0,50.0,50.0,50.0,50.0,50.0,75.0,75.0,75.0,75.0,75.0,75.0,75.0,75.0,75.0,75.0,75.0,75.0,75.0,35.0,40.0,40.0,40.0,40.0,40.0,50.0,50.0,50.0,50.0,80.0,35.0,35.0,35.0,35.0,35.0,35.0,35.0,35.0,35.0,35.0,35.0,35.0,35.0,35.0,35.0,45.0,45.0,45.0,45.0,45.0,45.0,45.0,45.0,45.0,45.0,45.0,45.0,45.0,55.0,45.0,45.0,45.0,45.0,45.0,45.0,55.0,55.0,55.0,55.0,55.0,35.0,55.0,55.0,55.0,55.0,55.0,55.0,55.0,50.0,70.0,40.0,50.0,50.0,50.0,50.0,50.0,50.0,50.0,50.0,40.0,40.0,20.0,20.0,20.0,20.0,30.0,30.0,30.0,30.0,45.0,45.0,60.0,45.0,45.0,45.0,45.0,45.0,50.0,65.0,20.0,50.0,50.0,50.0,50.0,50.0,40.0,40.0,40.0,40.0,40.0,40.0,40.0,40.0,40.0,40.0,40.0,40.0,40.0,40.0,80.0,55.0,35.0,55.0,45.0,55.0,35.0,20.0,20.0,20.0,45.0,60.0,45.0,45.0,45.0,45.0,45.0,45.0,45.0,45.0,60.0,50.0,50.0,50.0,50.0,50.0,50.0,50.0,50.0,50.0,50.0,50.0,50.0,50.0,50.0,50.0,45.0,45.0,45.0,45.0,45.0,45.0,45.0,45.0,45.0,30.0,30.0,30.0,30.0,50.0,30.0,30.0,30.0,30.0,30.0,30.0,35.0,25.0,75.0,60.0,60.0,55.0,35.0,60.0,60.0,50.0,50.0,60.0,45.0,45.0,60.0,60.0,60.0,55.0,55.0,55.0,55.0,55.0,55.0,55.0,55.0,55.0,55.0,35.0,35.0,35.0,35.0,35.0,35.0,35.0,35.0,65.0,45.0,45.0,45.0,5.0,5.0,60.0,60.0,60.0,45.0,45.0,45.0,45.0,45.0,45.0,45.0,45.0,45.0,50.0,40.0,40.0,40.0,40.0,55.0,35.0,35.0,35.0,35.0,35.0,35.0,5.0,5.0,45.0,5.0,5.0,5.0,5.0,5.0,5.0,5.0,5.0,5.0,5.0,5.0,35.0,75.0,65.0,65.0,65.0,65.0,65.0,45.0,55.0,45.0,45.0,45.0,45.0,45.0,50.0,50.0,65.0,65.0,65.0,65.0,65.0,65.0,65.0,65.0,35.0,35.0,35.0,60.0,35.0,60.0,55.0,60.0,60.0,60.0,60.0,60.0,60.0,50.0,50.0,50.0,50.0,50.0,50.0,50.0,50.0,50.0,40.0,50.0,50.0,55.0,45.0,45.0,55.0,55.0,55.0,45.0,45.0,45.0,45.0,45.0,45.0,45.0,50.0,45.0,45.0,40.0,45.0,40.0,40.0,40.0,50.0,50.0,50.0,50.0,50.0,50.0,45.0,45.0,45.0,45.0,40.0,40.0,40.0,40.0,40.0,40.0,35.0,75.0,75.0,70.0,55.0,55.0,55.0,55.0,55.0,45.0,30.0,45.0,45.0,45.0,15.0,55.0,55.0,55.0,55.0,75.0,45.0,60.0,55.0,55.0,55.0,55.0,55.0,55.0,55.0,55.0,55.0,55.0,55.0,55.0,55.0,55.0,65.0,65.0,65.0,65.0,65.0,45.0,45.0,50.0,50.0,50.0,50.0,50.0,50.0,50.0,50.0,50.0,50.0,50.0,50.0,50.0,50.0,50.0,50.0,50.0,50.0,50.0,50.0,50.0,50.0,45.0,45.0,45.0,45.0,45.0,45.0,55.0,45.0,45.0,45.0,45.0,45.0,45.0,45.0,45.0,45.0,45.0,40.0,60.0,60.0,55.0,55.0,55.0,55.0,65.0,65.0,65.0,65.0,65.0,65.0,65.0,65.0,65.0,65.0,65.0,45.0,65.0,40.0,65.0,65.0,65.0,65.0,65.0,65.0,65.0,65.0,45.0,45.0,45.0,45.0,45.0,40.0,45.0,40.0,40.0,40.0,40.0,40.0,40.0,40.0,60.0,60.0,60.0,60.0,55.0,55.0,55.0,55.0,55.0,55.0,55.0,55.0,80.0,80.0,80.0,80.0,80.0,80.0,80.0,80.0,80.0,80.0,60.0,60.0,60.0,50.0,50.0,70.0,70.0,75.0,50.0,50.0,50.0,50.0,60.0,50.0,50.0,70.0,70.0,70.0,70.0,70.0,70.0,70.0,70.0,70.0,70.0,70.0,70.0,60.0,60.0,45.0,60.0,80.0,80.0,80.0,80.0,40.0,50.0,50.0,50.0,50.0,50.0,50.0,50.0,50.0,50.0,50.0,50.0,50.0,65.0,65.0,65.0,65.0,45.0,65.0,65.0,65.0,65.0,45.0,65.0,65.0,50.0,65.0,65.0,65.0,55.0,55.0,55.0,55.0,55.0,50.0,50.0,50.0,70.0,70.0,70.0,60.0,60.0,60.0,60.0,60.0,60.0,60.0,60.0,40.0,40.0,40.0,40.0,40.0,40.0,40.0,40.0,40.0,40.0,50.0,50.0,50.0,50.0,55.0,55.0,85.0,55.0,55.0,55.0,55.0,50.0,50.0,50.0,50.0,50.0,50.0,75.0,60.0,75.0,50.0,75.0,80.0,75.0,75.0,75.0,75.0,75.0,75.0,60.0,60.0,60.0,60.0,60.0,60.0,60.0,60.0,45.0,45.0,60.0,60.0,60.0,50.0,60.0,60.0,60.0,55.0,55.0,55.0,55.0,55.0,55.0,55.0,55.0,70.0,60.0,60.0,60.0,50.0,60.0,60.0,60.0,60.0,40.0,40.0,40.0,40.0,50.0,40.0,40.0,40.0,40.0,40.0,40.0,40.0,40.0,50.0,50.0,40.0,40.0,40.0,40.0,40.0,40.0,50.0,50.0,45.0,50.0,50.0,50.0,50.0,60.0,60.0,60.0,60.0,60.0,50.0,45.0,40.0,55.0,60.0,60.0,60.0,80.0,80.0,80.0,80.0,80.0,80.0,80.0,80.0,35.0,35.0,35.0,35.0,50.0,50.0,50.0,55.0,45.0,55.0,55.0,55.0,55.0,55.0,50.0,50.0,50.0,50.0,45.0,45.0,45.0,45.0,45.0,45.0,20.0,50.0,50.0,50.0,50.0,50.0,50.0,50.0,50.0,50.0,50.0,35.0,35.0,75.0,75.0,75.0,75.0,50.0,50.0,50.0,70.0,50.0,50.0,50.0,50.0,50.0,50.0,50.0,50.0,40.0,50.0,50.0,50.0,50.0,50.0,50.0,50.0,75.0,75.0,75.0,75.0,75.0,75.0,75.0,50.0,50.0,50.0,50.0,50.0,50.0,50.0,60.0,60.0,60.0,60.0,55.0,55.0,55.0,50.0,50.0,30.0,55.0,55.0,55.0,55.0,55.0,55.0,55.0,55.0,55.0,50.0,50.0,50.0,50.0,50.0,50.0,35.0,35.0,35.0,50.0,50.0,50.0,50.0,45.0,45.0,50.0,50.0,50.0,50.0,50.0,50.0,50.0,50.0,50.0,50.0,50.0,50.0,40.0,40.0,40.0,40.0,40.0,75.0,75.0,75.0,75.0,50.0,50.0,40.0,55.0,55.0,55.0,55.0,55.0,55.0,55.0,55.0,45.0,45.0,75.0,75.0,60.0,60.0,60.0,60.0,60.0,55.0,30.0,30.0,30.0,30.0,40.0,40.0,40.0,40.0,40.0,40.0,40.0,40.0,40.0,40.0,40.0,40.0,40.0,65.0,65.0,65.0,65.0,55.0,60.0,60.0,60.0,60.0,60.0,60.0,60.0,60.0,60.0,45.0,45.0,45.0,45.0,45.0,45.0,40.0,35.0,40.0,30.0,45.0,45.0,45.0,45.0,50.0,55.0,45.0,45.0,50.0,45.0,75.0,75.0,50.0,50.0,45.0,45.0,45.0,45.0,45.0,45.0,45.0,45.0,70.0,70.0,70.0,70.0,70.0,70.0,70.0,40.0,40.0,40.0,40.0,40.0,40.0,65.0,60.0,60.0,55.0,55.0,55.0,55.0,55.0,55.0,50.0,35.0,35.0,35.0,35.0,35.0,35.0,35.0,35.0,55.0,55.0,55.0,50.0,50.0,50.0,65.0,65.0,45.0,45.0,45.0,45.0,45.0,45.0,45.0,45.0,45.0,45.0,45.0,45.0,45.0,45.0,45.0,45.0,45.0,45.0,60.0,60.0,55.0,55.0,55.0,55.0,55.0,55.0,55.0,55.0,65.0,65.0,65.0,65.0,65.0,75.0,75.0,75.0,75.0,40.0,40.0,40.0,40.0,40.0,40.0,40.0,40.0,60.0,55.0,50.0,40.0,45.0,45.0,45.0,45.0,45.0,45.0,45.0,45.0,45.0,45.0,55.0,55.0,55.0,55.0,55.0,55.0,55.0,55.0,55.0,55.0,45.0,45.0,45.0,45.0,45.0,45.0,45.0,45.0,45.0,45.0,35.0,35.0,35.0,35.0,35.0,35.0,35.0,35.0,35.0,45.0,45.0,45.0,45.0,45.0,45.0,55.0,55.0,55.0,70.0,70.0,70.0,70.0,35.0,35.0,35.0,35.0,35.0,45.0,45.0,45.0,45.0,40.0,45.0,45.0,45.0,45.0,60.0,60.0,60.0,60.0,60.0,60.0,40.0,40.0,40.0,40.0,40.0,40.0,40.0,60.0,45.0,45.0,45.0,45.0,45.0,45.0,45.0,55.0,55.0,40.0,40.0,40.0,40.0,40.0,40.0,40.0,45.0,45.0,45.0,45.0,45.0,45.0,45.0,45.0,50.0,50.0,50.0,35.0,35.0,45.0,45.0,45.0,45.0,45.0,45.0,45.0,45.0,60.0,60.0,50.0,45.0,45.0,45.0,45.0,45.0,45.0,45.0,45.0,45.0,30.0,30.0,30.0,60.0,50.0,50.0,40.0,40.0,40.0,40.0,40.0,70.0,70.0,70.0,70.0,70.0,70.0,70.0,70.0,70.0,70.0,40.0,45.0,45.0,55.0,55.0,55.0,55.0,55.0,40.0,40.0,40.0,40.0,40.0,40.0,40.0,75.0,50.0,50.0,50.0,55.0,55.0,55.0,55.0,55.0,55.0,55.0,55.0,55.0,55.0,55.0,55.0,50.0,50.0,50.0,50.0,50.0,50.0,50.0,50.0,50.0,50.0,75.0,50.0,50.0,50.0,60.0,35.0,35.0,35.0,35.0,35.0,75.0,75.0,75.0,75.0,75.0,60.0,60.0,60.0,60.0,50.0,50.0,50.0,50.0,50.0,50.0,50.0,40.0,40.0,40.0,40.0,40.0,50.0,40.0,40.0,70.0,45.0,45.0,45.0,45.0,45.0,50.0,50.0,50.0,50.0,50.0,50.0,50.0,50.0,50.0,50.0,50.0,50.0,50.0,25.0,35.0,35.0,55.0,55.0,55.0,55.0,70.0,55.0,55.0,55.0,55.0,60.0,60.0,60.0,60.0,60.0,60.0,60.0,60.0,60.0,50.0,50.0,55.0,55.0,55.0,55.0,55.0,55.0,55.0,55.0,55.0,45.0,45.0,45.0,40.0,40.0,40.0,40.0,40.0,40.0,40.0,40.0,40.0,40.0,40.0,40.0,45.0,40.0,40.0,40.0,35.0,65.0,65.0,65.0,65.0,40.0,50.0,50.0,50.0,50.0,60.0,35.0,70.0,70.0,70.0,40.0,50.0,50.0,55.0,55.0,55.0,55.0,55.0,55.0,50.0,55.0,55.0,55.0,55.0,55.0,55.0,55.0,70.0,70.0,70.0,50.0,50.0,50.0,50.0,50.0,50.0,50.0,50.0,50.0,50.0,50.0,50.0,50.0,50.0,50.0,65.0,65.0,65.0,65.0,65.0,65.0,65.0,65.0,65.0,65.0,65.0,65.0,65.0,65.0,65.0,65.0,65.0,65.0,55.0,55.0,55.0,55.0,55.0,40.0,40.0,40.0,30.0,75.0,75.0,70.0,60.0,60.0,40.0,40.0,40.0,40.0,40.0,40.0,40.0,40.0,40.0,40.0,40.0,40.0,40.0,40.0,40.0,40.0,50.0,50.0,50.0,50.0,50.0,50.0,50.0,50.0,50.0,50.0,50.0,50.0,55.0,55.0,40.0,40.0,50.0,50.0,50.0,50.0,50.0,50.0,50.0,50.0,40.0,45.0,45.0,45.0,45.0,45.0,45.0,50.0,50.0,50.0,55.0,40.0,45.0,45.0,45.0,45.0,45.0,45.0,45.0,45.0,45.0,45.0,40.0,40.0,40.0,40.0,45.0,45.0,45.0,45.0,65.0,55.0,65.0,35.0,50.0,50.0,50.0,50.0,35.0,35.0,35.0,35.0,35.0,35.0,35.0,35.0,50.0,50.0,50.0,25.0,25.0,25.0,25.0,25.0,25.0,35.0,65.0,65.0,65.0,60.0,60.0,60.0,60.0,60.0,60.0,50.0,50.0,25.0,60.0,60.0,60.0,60.0,55.0,55.0,55.0,55.0,55.0,55.0,55.0,55.0,55.0,55.0,55.0,50.0,45.0,45.0,45.0,45.0,45.0,45.0,45.0,50.0,50.0,50.0,50.0,50.0,55.0,55.0,55.0,55.0,55.0,55.0,55.0,60.0,60.0,60.0,60.0,60.0,60.0,60.0,60.0,65.0,65.0,65.0,65.0,65.0,65.0,65.0,65.0,65.0,65.0,65.0,65.0,65.0,65.0,65.0,65.0,65.0,40.0,40.0,40.0,40.0,45.0,40.0,40.0,45.0,45.0,45.0,45.0,45.0,35.0,35.0,35.0,35.0,35.0,35.0,35.0,35.0,25.0,50.0,50.0,50.0,50.0,50.0,50.0,50.0,50.0,50.0,50.0,55.0,55.0,55.0,55.0,55.0,60.0,60.0,60.0,45.0,45.0,45.0,45.0,45.0,45.0,45.0,45.0,50.0,50.0,50.0,40.0,50.0,60.0,60.0,60.0,60.0,60.0,60.0,55.0,55.0,55.0,55.0,55.0,55.0,55.0,55.0,55.0,55.0,55.0,40.0,40.0,40.0,45.0,45.0,45.0,45.0,45.0,45.0,45.0,45.0,45.0,45.0,45.0,45.0,45.0,45.0,45.0,45.0,45.0,70.0,55.0,55.0,55.0,55.0,55.0,55.0,55.0,55.0,55.0,55.0,55.0,50.0,45.0,45.0,35.0,35.0,35.0,35.0,35.0,35.0,35.0,35.0,35.0,35.0,35.0,35.0,35.0,35.0,35.0,35.0,35.0,50.0,45.0,45.0,45.0,45.0,50.0,55.0,55.0,55.0,55.0,55.0,55.0,45.0,45.0,45.0,45.0,45.0,45.0,45.0,70.0,70.0,70.0,70.0,45.0,45.0,45.0,45.0,45.0,45.0,45.0,45.0,45.0,45.0,45.0,45.0,50.0,50.0,50.0,50.0,50.0,50.0,50.0,50.0,50.0,50.0,50.0,50.0,50.0,50.0,50.0,35.0,35.0,35.0,60.0,60.0,60.0,60.0,60.0,60.0,60.0,60.0,60.0,50.0,50.0,50.0,50.0,50.0,50.0,75.0,75.0,75.0,45.0,40.0,40.0,40.0,40.0,40.0,40.0,40.0,45.0,45.0,45.0,45.0,45.0,45.0,50.0,50.0,50.0,50.0,50.0,50.0,50.0,45.0,45.0,45.0,40.0,40.0,40.0,40.0,40.0,40.0,40.0,40.0,40.0,40.0,40.0,40.0,50.0,60.0,60.0,60.0,60.0,30.0,30.0,75.0,45.0,45.0,40.0,40.0,40.0,55.0,50.0,50.0,50.0,50.0,50.0,50.0,50.0,40.0,40.0,40.0,40.0,40.0,40.0,40.0,45.0,45.0,45.0,45.0,45.0,45.0,45.0,45.0,45.0,50.0,50.0,50.0,50.0,50.0,50.0,50.0,75.0,75.0,75.0,45.0,45.0,45.0,45.0,45.0,45.0,35.0,35.0,35.0,35.0,35.0,35.0,35.0,35.0,35.0,35.0,35.0,35.0,35.0,35.0,65.0,65.0,65.0,65.0,80.0,80.0,80.0,80.0,80.0,80.0,80.0,80.0,80.0,80.0,80.0,35.0,35.0,35.0,35.0,30.0,75.0,75.0,75.0,75.0,50.0,50.0,50.0,50.0,50.0,55.0,55.0,55.0,45.0,45.0,45.0,45.0,55.0,45.0,45.0,45.0,45.0,45.0,45.0,45.0,45.0,45.0,45.0,65.0,65.0,65.0,20.0,45.0,45.0,60.0,75.0,75.0,75.0,75.0,75.0,70.0,70.0,70.0,70.0,70.0,60.0,60.0,60.0,60.0,60.0,60.0,60.0,60.0,75.0,75.0,75.0,75.0,75.0,75.0,75.0,75.0,60.0,60.0,60.0,60.0,60.0,60.0,60.0,60.0,60.0,60.0,60.0,70.0,70.0,70.0,35.0,35.0,35.0,35.0,35.0,35.0,35.0,35.0,40.0,40.0,40.0,40.0,40.0,40.0,40.0,45.0,45.0,45.0,45.0,45.0,65.0,65.0,65.0,65.0,65.0,65.0,65.0,65.0,65.0,65.0,45.0,45.0,45.0,45.0,65.0,65.0,65.0,65.0,35.0,35.0,35.0,55.0,55.0,55.0,50.0,50.0,50.0,50.0,50.0,50.0,50.0,50.0,50.0,50.0,50.0,35.0,75.0,75.0,75.0,65.0,65.0,65.0,65.0,65.0,35.0,35.0,35.0,35.0,35.0,35.0,55.0,55.0,55.0,55.0,55.0,55.0,55.0,55.0,55.0,55.0,45.0,50.0,50.0,50.0,50.0,50.0,50.0,50.0,50.0,50.0,50.0,50.0,50.0,50.0,50.0,50.0,50.0,55.0,55.0,55.0,55.0,55.0,55.0,55.0,55.0,50.0,50.0,50.0,50.0,50.0,50.0,50.0,40.0,40.0,40.0,40.0,40.0,40.0,40.0,40.0,40.0,40.0,40.0,45.0,45.0,45.0,45.0,45.0,45.0,45.0,25.0,25.0,85.0,85.0,85.0,50.0,50.0,75.0,75.0,75.0,45.0,45.0,45.0,55.0,55.0,55.0,55.0,55.0,55.0,55.0,55.0,55.0,55.0,55.0,55.0,55.0,40.0,40.0,40.0,40.0,40.0,45.0,55.0,55.0,55.0,55.0,55.0,55.0,55.0,55.0,55.0,50.0,50.0,50.0,50.0,50.0,40.0,40.0,40.0,40.0,40.0,40.0,40.0,50.0,50.0,50.0,50.0,50.0,50.0,50.0,50.0,50.0,40.0,40.0,40.0,40.0,40.0,40.0,40.0,40.0,40.0,45.0,45.0,45.0,45.0,45.0,45.0,45.0,45.0,45.0,45.0,45.0,45.0,45.0,30.0,30.0,30.0,30.0,30.0,30.0,60.0,45.0,45.0,50.0,50.0,50.0,50.0,35.0,35.0,50.0,50.0,50.0,50.0,50.0,50.0,45.0,45.0,45.0,45.0,45.0,45.0,45.0,45.0,45.0,45.0,45.0,45.0,45.0,45.0,45.0,45.0,45.0,40.0,80.0,80.0,80.0,40.0,40.0,40.0,40.0,40.0,40.0,40.0,40.0,40.0,40.0,40.0,40.0,40.0,50.0,50.0,50.0,50.0,45.0,60.0,60.0,65.0,55.0,55.0,40.0,40.0,40.0,50.0,50.0,50.0,50.0,50.0,50.0,50.0,50.0,50.0,40.0,40.0,40.0,30.0,30.0,30.0,30.0,45.0,45.0,45.0,45.0,45.0,45.0,45.0,45.0,20.0,40.0,40.0,40.0,60.0,60.0,75.0,75.0,45.0,45.0,45.0,45.0,45.0,45.0,60.0,60.0,60.0,60.0,60.0,35.0,35.0,35.0,50.0,50.0,50.0,50.0,50.0,50.0,50.0,50.0,40.0,40.0,40.0,70.0,70.0,70.0,35.0,35.0,45.0,45.0,45.0,45.0,45.0,45.0,45.0,45.0,45.0,35.0,35.0,35.0,35.0,50.0,50.0,35.0,35.0,35.0,35.0,35.0,55.0,55.0,55.0,40.0,40.0,40.0,40.0,40.0,65.0,65.0,65.0,65.0,45.0,45.0,45.0,45.0,45.0,45.0,45.0,45.0,45.0,50.0,50.0,50.0,50.0,35.0,45.0,45.0,45.0,45.0,45.0,45.0,45.0,45.0,45.0,45.0,45.0,45.0,45.0,45.0,60.0,60.0,60.0,60.0,60.0,40.0,40.0,70.0,70.0,60.0,60.0,60.0,60.0,60.0,50.0,50.0,50.0,50.0,50.0,50.0,35.0,35.0,35.0,35.0,35.0,35.0,55.0,55.0,55.0,40.0,40.0,40.0,40.0,40.0,50.0,50.0,50.0,80.0,80.0,80.0,80.0,80.0,50.0,65.0,50.0,75.0,75.0,75.0,75.0,75.0,25.0,25.0,25.0,25.0,25.0,25.0,25.0,25.0,25.0,25.0,50.0,50.0,45.0,45.0,45.0,45.0,45.0,45.0,65.0,65.0,65.0,65.0,65.0,50.0,45.0,45.0,45.0,30.0,30.0,30.0,30.0,30.0,30.0,30.0,30.0,50.0,50.0,50.0,50.0,50.0,50.0,50.0,50.0,50.0,50.0,50.0,50.0,60.0,45.0,45.0,45.0,45.0,45.0,45.0,45.0,45.0,45.0,45.0,45.0,55.0,55.0,55.0,55.0,55.0,55.0,55.0,55.0,40.0,40.0,40.0,40.0,40.0,40.0,40.0,40.0,35.0,35.0,50.0,50.0,30.0,30.0,30.0,50.0,50.0,50.0,50.0,55.0,55.0,55.0,65.0,55.0,55.0,55.0,55.0,55.0,55.0,55.0,55.0,55.0,55.0,55.0,55.0,55.0,55.0,50.0,75.0,75.0,75.0,50.0,50.0,50.0,50.0,50.0,50.0,50.0,50.0,50.0,60.0,60.0,60.0,60.0,40.0,40.0,40.0,40.0,35.0,35.0,35.0,35.0,35.0,35.0,35.0,35.0,45.0,45.0,45.0,40.0,40.0,40.0,40.0,50.0,50.0,70.0,70.0,40.0,20.0,20.0,20.0,20.0,20.0,20.0,20.0,20.0,45.0,45.0,45.0,45.0,45.0,25.0,25.0,25.0,35.0,35.0,35.0,35.0,35.0,35.0,35.0,35.0,35.0,35.0,35.0,35.0,35.0,35.0,65.0,65.0,65.0,65.0,65.0,65.0,30.0,30.0,30.0,30.0,30.0,30.0,30.0,35.0,35.0,50.0,50.0,25.0,25.0,25.0,25.0,45.0,45.0,45.0,45.0,45.0,45.0,45.0,45.0,35.0,45.0,45.0,45.0,45.0,45.0,45.0,45.0,45.0,45.0,45.0,45.0,45.0,45.0,40.0,40.0,40.0,40.0,40.0,40.0,40.0,40.0,40.0,40.0,40.0,40.0,40.0,35.0,35.0,35.0,35.0,35.0,50.0,50.0,50.0,45.0,45.0,45.0,45.0,45.0,45.0,45.0,45.0,45.0,45.0,45.0,35.0,35.0,35.0,35.0,35.0,40.0,40.0,40.0,40.0,40.0,40.0,45.0,45.0,45.0,25.0,25.0,35.0,25.0,35.0,35.0,70.0,70.0,70.0,70.0,70.0,70.0,35.0,35.0,35.0,35.0,55.0,55.0,55.0,55.0,50.0,50.0,40.0,40.0,40.0,40.0,40.0,25.0,25.0,45.0,45.0,45.0,45.0,45.0,45.0,45.0,45.0,30.0,30.0,30.0,30.0,30.0,30.0,30.0,30.0,30.0,30.0,30.0,45.0,45.0,45.0,45.0,45.0,45.0,45.0,45.0,30.0,30.0,30.0,30.0,30.0,30.0,30.0,30.0,30.0,30.0,45.0,45.0,45.0,45.0,40.0,40.0,40.0,40.0,40.0,50.0,50.0,50.0,45.0,45.0,40.0,40.0,40.0,40.0,40.0,40.0,40.0,40.0,55.0,55.0,55.0,55.0,55.0,55.0,55.0,55.0,40.0,40.0,40.0,40.0,40.0,40.0,60.0,60.0,60.0,55.0,40.0,40.0,40.0,40.0,40.0,30.0,30.0,35.0,35.0,35.0,35.0,30.0,65.0,65.0,65.0,40.0,40.0,40.0,40.0,40.0,40.0,40.0,55.0,55.0,65.0,65.0,65.0,65.0,60.0,60.0,60.0,50.0,50.0,50.0,50.0,50.0,50.0,50.0,50.0,50.0,55.0,55.0,55.0,55.0,55.0,55.0,55.0,55.0,55.0,55.0,55.0,55.0,55.0,55.0,55.0,55.0,35.0,35.0,35.0,35.0,35.0,35.0,35.0,35.0,35.0,60.0,60.0,60.0,60.0,60.0,60.0,60.0,60.0,60.0,60.0,60.0,60.0,40.0,40.0,40.0,40.0,30.0,30.0,30.0,30.0,30.0,30.0,30.0,50.0,50.0,50.0,30.0,30.0,30.0,30.0,30.0,30.0,30.0,30.0,30.0,30.0,30.0,30.0,30.0,30.0,30.0,30.0,30.0,30.0,30.0,30.0,30.0,30.0,30.0,30.0,30.0,35.0,35.0,35.0,35.0,35.0,35.0,35.0,35.0,35.0,35.0,35.0,35.0,45.0,45.0,45.0,45.0,45.0,45.0,45.0,45.0,45.0,45.0,50.0,45.0,55.0,60.0,70.0,55.0,35.0,35.0,35.0,35.0,35.0,35.0,35.0,35.0,35.0,35.0,35.0,35.0,35.0,35.0,50.0,50.0,50.0,50.0,50.0,50.0,45.0,65.0,25.0,25.0,25.0,40.0,40.0,40.0,40.0,40.0,40.0,30.0,30.0,45.0,45.0,45.0,45.0,45.0,45.0,30.0,30.0,30.0,30.0,30.0,30.0,40.0,40.0,40.0,40.0,40.0,40.0,40.0,40.0,40.0,40.0,40.0,40.0,40.0,40.0,40.0,40.0,40.0,40.0,40.0,40.0,35.0,35.0,35.0,35.0,35.0,35.0,35.0,35.0,35.0,35.0,35.0,35.0,65.0,65.0,65.0,65.0,65.0,65.0,65.0,65.0,65.0,65.0,65.0,65.0,35.0,35.0,35.0,35.0,30.0,70.0,70.0,70.0,70.0,70.0,70.0,70.0,70.0,70.0,70.0,70.0,70.0,35.0,35.0,35.0,35.0,55.0,55.0,50.0,50.0,50.0,40.0,40.0,40.0,40.0,40.0,40.0,40.0,40.0,40.0,40.0,40.0,40.0,40.0,40.0,40.0,40.0,40.0,50.0,50.0,50.0,50.0,50.0,50.0,50.0,50.0,50.0,50.0,50.0,50.0,50.0,50.0,35.0,35.0,45.0,45.0,45.0,45.0,45.0,45.0,45.0,45.0,40.0,40.0,40.0,40.0,40.0,40.0,40.0,40.0,40.0,40.0,35.0,35.0,35.0,35.0,35.0,75.0,65.0,65.0,65.0,65.0,65.0,65.0,65.0,65.0,65.0,65.0,65.0,65.0,40.0,40.0,40.0,40.0,40.0,40.0,50.0,50.0,50.0,50.0,50.0,50.0,50.0,50.0,50.0,50.0,50.0,50.0,50.0,50.0,50.0,50.0,50.0,50.0,50.0,50.0,50.0,50.0,50.0,50.0,50.0,50.0,50.0,50.0,35.0,35.0,35.0,35.0,35.0,35.0,35.0,35.0,35.0,35.0,35.0,55.0,55.0,55.0,55.0,55.0,60.0,60.0,60.0,50.0,50.0,50.0,55.0,55.0,55.0,70.0,70.0,70.0,45.0,45.0,45.0,45.0,45.0,45.0,45.0,45.0,45.0,45.0,45.0,45.0,45.0,45.0,45.0,45.0,45.0,45.0,45.0,45.0,45.0,45.0,45.0,20.0,20.0,0.0,0.0,20.0,20.0,50.0,50.0,45.0,45.0,25.0,25.0,10.0,10.0,30.0,30.0,45.0,45.0,30.0,30.0,40.0,40.0,70.0,70.0,20.0,20.0,20.0,20.0,20.0,20.0,65.0,45.0,45.0,30.0,30.0,40.0,40.0,80.0,80.0,55.0,55.0,40.0,55.0,55.0,30.0,30.0,75.0,75.0,55.0,55.0,35.0,35.0,25.0,25.0,70.0,70.0,60.0,60.0,50.0,50.0,35.0,35.0,25.0,25.0,55.0,55.0,30.0,30.0,45.0,45.0,45.0,45.0,75.0,75.0,55.0,55.0,55.0,55.0,55.0,55.0,70.0,70.0,35.0,35.0,45.0,45.0,55.0,55.0,25.0,55.0,70.0,70.0,25.0,25.0,35.0,35.0,50.0,50.0,25.0,25.0,55.0,55.0,25.0,25.0,60.0,60.0,45.0,45.0,45.0,45.0,70.0,70.0,70.0,70.0,70.0,70.0,40.0,40.0,60.0,60.0,40.0,40.0,75.0,75.0,40.0,40.0,50.0,50.0,50.0,55.0,55.0,55.0,55.0,35.0,60.0,60.0,60.0,75.0,75.0,45.0,15.0,40.0,40.0,40.0,40.0,45.0,45.0,15.0,15.0,55.0,55.0,55.0,50.0,50.0,45.0,45.0,45.0,45.0,50.0,50.0,55.0,55.0,50.0,50.0,80.0,55.0,55.0,35.0,35.0,70.0,70.0,35.0,35.0,40.0,40.0,45.0,45.0,25.0,25.0,0.0,0.0,35.0,35.0,30.0,30.0,35.0,35.0,35.0,35.0,35.0,35.0,75.0,75.0,45.0,50.0,50.0,30.0,30.0,55.0,55.0,40.0,40.0,75.0,75.0,40.0,40.0,70.0,70.0,10.0,10.0,50.0,50.0,70.0,70.0,5.0,70.0,70.0,40.0,40.0,25.0,5.0,20.0,20.0,55.0,55.0,45.0,45.0,35.0,35.0,60.0,60.0,30.0,30.0,70.0,70.0,70.0,70.0,20.0,20.0,30.0,30.0,45.0,45.0,45.0,45.0,35.0,35.0,10.0,10.0,35.0,35.0,80.0,80.0,45.0,45.0,15.0,75.0,75.0,15.0,15.0,55.0,55.0,70.0,70.0,60.0,85.0,50.0,50.0,30.0,30.0,65.0,65.0,80.0,80.0,45.0,45.0,45.0,45.0,45.0,45.0,50.0,50.0,55.0,55.0,55.0,55.0,40.0,40.0,55.0,55.0,85.0,85.0,45.0,45.0,55.0,55.0,70.0,70.0,75.0,75.0,55.0,55.0,55.0,55.0,45.0,45.0,50.0,50.0,30.0,30.0,50.0,50.0,25.0,25.0,30.0,30.0,10.0,10.0,15.0,15.0,15.0,15.0,50.0,50.0,55.0,55.0,45.0,45.0,60.0,60.0,45.0,45.0,45.0,45.0,35.0,35.0,40.0,40.0,50.0,50.0,5.0,5.0,5.0,40.0,40.0,50.0,50.0,35.0,35.0,25.0,25.0,10.0,10.0,30.0,30.0,35.0,35.0,25.0,65.0,65.0,30.0,30.0,40.0,40.0,65.0,65.0,30.0,50.0,50.0,15.0,35.0,35.0,45.0,45.0,15.0,60.0,60.0,60.0,55.0,55.0,30.0,30.0,50.0,50.0,45.0,45.0,55.0,75.0,75.0,35.0,35.0,25.0,25.0,85.0,35.0,35.0,25.0,25.0,35.0,35.0,35.0,35.0,35.0,70.0,25.0,25.0,60.0,60.0,65.0,30.0,30.0,40.0,40.0,40.0,50.0,50.0,45.0,45.0,45.0,50.0,25.0,25.0,60.0,75.0,50.0,75.0,40.0,35.0,45.0,50.0,50.0,65.0,45.0,45.0,50.0,35.0,35.0,35.0,30.0,30.0,30.0,25.0,25.0,25.0,65.0,45.0,45.0,45.0,40.0,45.0,45.0,45.0,40.0,40.0,40.0,70.0,70.0,70.0,50.0,50.0,50.0,60.0,60.0,60.0,30.0,55.0,55.0,45.0,45.0,45.0,55.0,55.0,55.0,20.0,35.0,35.0,35.0,40.0,40.0,40.0,40.0,40.0,40.0,65.0,35.0,10.0,45.0,45.0,45.0,80.0,80.0,30.0,60.0,60.0,60.0,60.0,60.0,60.0,45.0,25.0,65.0,45.0,45.0,35.0,35.0,35.0,35.0,70.0,70.0,20.0,20.0,20.0,75.0,75.0,75.0,5.0,5.0,5.0,75.0,40.0,10.0,10.0,10.0,45.0,30.0,30.0,30.0,30.0,30.0,30.0,30.0,20.0,50.0,50.0,50.0,40.0,40.0,40.0,30.0,15.0,50.0,50.0,25.0,60.0,60.0,60.0,40.0,40.0,40.0,65.0,65.0,65.0,40.0,40.0,45.0,75.0,75.0,30.0,30.0,30.0,30.0,30.0,30.0,30.0,30.0,50.0,50.0,20.0,20.0,20.0,20.0,40.0,40.0,25.0,65.0,65.0,65.0,65.0,30.0,30.0,25.0,25.0,50.0,50.0,55.0,55.0,20.0,20.0,85.0,85.0,55.0,55.0,50.0,50.0,60.0,60.0,60.0,60.0,30.0,50.0,50.0,80.0,80.0,85.0,85.0,45.0,45.0,40.0,40.0,15.0,15.0,25.0,25.0,40.0,45.0,45.0,45.0,45.0,45.0,40.0,40.0,40.0,60.0,60.0,60.0,30.0,30.0,30.0,30.0,30.0,30.0,65.0,65.0,65.0,60.0,60.0,60.0,70.0,70.0,70.0,35.0,35.0,35.0,40.0,40.0,40.0,40.0,40.0,40.0,40.0,40.0,40.0,55.0,55.0,55.0,30.0,30.0,40.0,40.0,40.0,70.0,70.0,70.0,45.0,45.0,45.0,35.0,35.0,35.0,35.0,35.0,35.0,35.0,30.0,30.0,30.0,70.0,70.0,70.0,45.0,45.0,45.0,25.0,25.0,45.0,45.0,45.0,45.0,45.0,45.0,40.0,40.0,40.0,10.0,10.0,10.0,45.0,45.0,45.0,50.0,50.0,15.0,40.0,40.0,30.0,30.0,30.0,30.0,30.0,30.0,30.0,30.0,25.0,25.0,25.0,40.0,40.0,40.0,40.0,40.0,40.0,70.0,70.0,70.0,45.0,45.0,45.0,45.0,45.0,40.0,40.0,40.0,35.0,35.0,35.0,35.0,35.0,35.0,40.0,40.0,40.0,45.0,45.0,45.0,35.0,35.0,35.0,40.0,40.0,40.0,35.0,35.0,35.0,40.0,40.0,40.0,35.0,35.0,35.0,30.0,30.0,30.0,35.0,35.0,35.0,25.0,25.0,25.0,70.0,70.0,70.0,60.0,60.0,60.0,50.0,50.0,50.0,50.0,45.0,45.0,45.0,55.0,55.0,55.0,40.0,40.0,40.0,55.0,55.0,55.0,50.0,50.0,50.0,15.0,15.0,15.0,55.0,55.0,55.0,30.0,70.0,70.0,70.0,40.0,40.0,40.0,40.0,40.0,40.0,40.0,40.0,40.0,15.0,15.0,15.0,70.0,70.0,70.0,0.0,0.0,50.0,50.0,50.0,30.0,30.0,45.0,45.0,45.0,70.0,70.0,70.0,15.0,15.0,15.0,45.0,45.0,45.0,35.0,35.0,35.0,65.0,65.0,65.0,30.0,30.0,30.0,40.0,40.0,40.0,35.0,35.0,35.0,50.0,50.0,40.0,40.0,40.0,40.0,40.0,40.0,60.0,60.0,60.0,35.0,35.0,35.0,20.0,20.0,20.0,50.0,50.0,30.0,50.0,30.0,35.0,35.0,35.0,35.0,35.0,35.0,35.0,35.0,35.0,20.0,35.0,35.0,35.0,35.0,35.0,35.0,35.0,20.0,35.0,35.0,35.0,50.0,50.0,20.0,20.0,50.0,40.0,40.0,40.0,35.0,35.0,40.0,40.0,65.0,65.0,40.0,40.0,50.0,50.0,50.0,35.0,35.0,35.0,65.0,65.0,65.0,35.0,35.0,35.0,30.0,30.0,30.0,55.0,55.0,55.0,55.0,55.0,55.0,45.0,45.0,45.0,5.0,5.0,5.0,5.0,5.0,35.0,35.0,35.0,40.0,40.0,40.0,70.0,70.0,70.0,50.0,50.0,50.0,20.0,20.0,20.0,20.0,20.0,20.0,75.0,75.0,75.0,55.0,55.0,55.0,55.0,10.0,10.0,60.0,60.0,60.0,35.0,35.0,35.0,25.0,25.0,25.0,50.0,50.0,35.0,35.0,35.0,35.0,35.0,35.0,35.0,35.0,50.0,50.0,50.0,40.0,40.0,20.0,20.0,20.0,40.0,40.0,40.0,45.0,45.0,45.0,30.0,30.0,30.0,30.0,30.0,30.0,35.0,35.0,35.0,55.0,55.0,55.0,40.0,40.0,40.0,40.0,40.0,50.0,50.0,50.0,35.0,35.0,30.0,30.0,50.0,50.0,40.0,40.0,45.0,45.0,25.0,25.0,65.0,65.0,55.0,55.0,55.0,40.0,40.0,30.0,30.0,50.0,50.0,25.0,25.0,25.0,55.0,55.0,55.0,20.0,20.0,20.0,30.0,30.0,30.0,5.0,5.0,5.0,65.0,30.0,30.0,30.0,30.0,45.0,45.0,45.0,40.0,40.0,40.0,50.0,50.0,50.0,45.0,45.0,45.0,45.0,45.0,50.0,50.0,50.0,5.0,5.0,5.0,45.0,45.0,45.0,50.0,50.0,50.0,45.0,45.0,45.0,45.0,45.0,45.0,20.0,20.0,45.0,45.0,45.0,25.0,25.0,40.0,40.0,40.0,10.0,40.0,55.0,55.0,55.0,35.0,35.0,40.0,40.0,60.0,60.0,55.0,55.0,55.0,70.0,70.0,60.0,60.0,15.0,15.0,45.0,45.0,70.0,70.0,5.0,5.0,5.0,20.0,20.0,20.0,20.0,20.0,65.0,65.0,65.0,45.0,45.0,45.0,35.0,35.0,15.0,15.0,20.0,20.0,20.0,15.0,15.0,80.0,80.0,80.0,25.0,25.0,25.0,65.0,65.0,50.0,50.0,50.0,50.0,50.0,60.0,60.0,60.0,60.0,60.0,60.0,40.0,40.0,50.0,50.0,15.0,15.0,15.0,15.0,40.0,40.0,40.0,30.0,30.0,30.0,30.0,30.0,35.0,35.0,35.0,65.0,65.0,60.0,30.0,30.0,25.0,25.0,25.0,40.0,40.0,40.0,50.0,50.0,35.0,35.0,30.0,30.0,40.0,40.0,65.0,65.0,65.0,65.0,65.0,30.0,30.0,35.0,35.0,35.0,30.0,30.0,30.0,45.0,45.0,45.0,35.0,35.0,35.0,35.0,25.0,25.0,25.0,35.0,15.0,15.0,80.0,80.0,45.0,45.0,20.0,20.0,20.0,65.0,65.0,65.0,45.0,45.0,30.0,30.0,5.0,5.0,5.0,30.0,45.0,45.0,65.0,65.0,65.0,45.0,45.0,35.0,35.0,35.0,50.0,25.0,25.0,25.0,55.0,55.0,55.0,45.0,45.0,45.0,35.0,35.0,45.0,45.0,55.0,55.0,80.0,80.0,20.0,20.0,50.0,50.0,5.0,5.0,55.0,55.0,55.0,55.0,55.0,55.0,55.0,55.0,55.0,55.0,55.0,55.0,25.0,25.0,45.0,45.0,60.0,60.0,40.0,35.0,35.0,30.0,30.0,45.0,45.0,35.0,35.0,35.0,60.0,60.0,60.0,5.0,5.0,60.0,40.0,60.0,25.0,25.0,65.0,65.0,15.0,15.0,60.0,60.0,60.0,0.0,0.0,45.0,45.0,25.0,25.0,25.0,45.0,45.0,10.0,10.0,35.0,35.0,35.0,10.0,10.0,25.0,25.0,25.0,25.0,25.0,25.0,25.0,25.0,25.0,25.0,25.0,25.0,25.0,25.0,55.0,55.0,55.0,35.0,35.0,25.0,35.0,15.0,45.0,55.0,55.0,25.0,40.0,40.0,35.0,35.0,40.0,40.0,45.0,45.0,15.0,15.0,30.0,25.0,45.0,35.0,35.0,30.0,35.0,55.0,55.0,40.0,30.0,35.0,35.0,75.0,75.0,75.0,40.0,40.0,40.0,25.0,25.0,10.0,10.0,70.0,65.0,65.0,55.0,40.0,55.0,35.0,35.0,35.0,35.0,55.0,25.0,25.0,30.0,45.0,45.0,30.0,20.0,20.0,35.0,30.0,20.0,40.0,30.0,30.0,30.0,25.0,25.0,25.0,40.0,25.0,25.0,55.0,25.0,40.0,55.0,25.0,40.0,35.0,15.0,65.0,30.0,45.0,25.0,20.0,40.0,20.0,40.0,60.0,60.0,65.0,60.0,55.0,15.0,15.0,15.0,40.0,40.0,40.0,40.0,40.0,40.0,35.0,30.0,20.0,35.0,35.0,30.0,30.0,40.0,15.0,25.0,85.0,85.0,25.0,25.0,55.0,40.0,40.0,10.0,10.0,25.0,20.0,35.0,35.0,30.0,15.0,15.0,35.0,60.0,25.0,45.0,45.0,45.0,55.0,25.0,25.0,70.0,70.0,60.0,60.0,60.0,55.0,55.0,30.0,30.0,50.0,50.0,35.0,35.0,35.0,30.0,35.0,40.0,40.0,35.0,35.0,40.0,30.0,55.0,70.0,60.0,35.0,60.0,30.0,30.0,35.0,35.0,25.0,25.0,25.0,25.0,45.0,70.0,70.0,40.0,30.0,30.0,25.0,25.0,55.0,55.0,55.0,50.0,50.0,50.0,30.0,30.0,40.0,40.0,40.0,40.0,40.0,60.0,60.0,60.0,60.0,75.0,75.0,75.0,75.0,75.0,75.0,75.0,75.0,75.0,75.0,75.0,35.0,35.0,35.0,30.0,30.0,30.0,30.0,30.0,30.0,20.0,20.0,20.0,20.0,40.0,40.0,50.0,50.0,50.0,50.0,45.0,45.0,45.0,55.0,55.0,35.0,35.0,35.0,35.0,35.0,35.0,35.0,35.0,30.0,30.0,30.0,25.0,25.0,35.0,35.0,60.0,60.0,60.0,35.0,60.0,25.0,25.0,25.0,20.0,20.0,35.0,40.0,60.0,60.0,20.0,20.0,35.0,35.0,20.0,20.0,20.0,65.0,65.0,65.0,70.0,70.0,70.0,15.0,15.0,15.0,20.0,20.0,20.0,35.0,35.0,35.0,45.0,45.0,35.0,35.0,35.0,60.0,60.0,50.0,50.0,50.0,35.0,35.0,35.0,75.0,10.0,10.0,65.0,65.0,65.0,65.0,65.0,75.0,75.0,75.0,75.0,75.0,75.0,75.0,25.0,25.0,25.0,35.0,35.0,35.0,60.0,60.0,60.0,20.0,20.0,75.0,35.0,40.0,40.0,40.0,30.0,15.0,35.0,80.0,30.0,35.0,35.0,20.0,70.0,25.0,30.0,55.0,55.0,35.0,15.0,35.0,25.0,25.0,55.0,65.0,30.0,25.0,70.0,70.0,35.0,30.0,15.0,35.0,50.0,75.0,60.0,40.0,50.0,50.0,35.0,35.0,50.0,65.0,35.0,45.0,30.0,35.0,35.0,55.0,75.0,65.0,75.0,55.0,70.0,60.0,30.0,30.0,30.0,15.0,55.0,50.0,60.0,70.0,60.0,75.0,25.0,50.0,50.0,50.0,40.0,40.0,30.0,80.0,35.0,35.0,25.0,15.0,60.0,60.0,60.0,65.0,75.0,70.0,30.0,30.0,30.0,60.0,50.0,35.0,60.0,60.0,20.0,60.0,10.0,35.0,15.0,50.0,50.0,50.0,70.0,40.0,70.0,30.0,40.0,70.0,60.0,55.0,60.0,50.0,50.0,50.0,70.0,60.0,60.0,85.0,85.0,50.0,35.0,45.0,30.0,5.0,65.0,60.0,50.0,50.0,20.0,75.0,75.0,75.0,75.0,30.0,45.0,45.0,55.0,75.0,35.0,55.0,50.0,40.0,50.0,70.0,25.0,20.0,30.0,30.0,60.0,60.0,20.0,20.0,50.0,70.0,50.0,35.0,60.0,25.0,45.0,25.0,60.0,25.0,25.0,25.0,35.0,30.0,35.0,50.0,50.0,35.0,35.0,45.0,45.0,60.0,25.0,65.0,25.0,45.0,55.0,55.0,35.0,30.0,30.0,60.0,60.0,80.0,80.0,50.0,60.0,35.0,40.0,65.0,35.0,30.0,75.0,75.0,65.0,35.0,40.0,45.0,60.0,50.0,50.0,20.0,60.0,60.0,60.0,30.0,40.0,60.0,65.0,65.0,80.0,80.0,85.0,70.0,50.0,50.0,65.0,20.0,25.0,50.0,30.0,40.0,75.0,75.0,40.0,65.0,20.0,40.0,45.0,45.0,45.0,35.0,70.0,45.0,45.0,70.0,70.0,65.0,65.0,65.0,50.0,50.0,50.0,50.0,60.0,50.0,70.0,70.0,30.0,65.0,65.0,50.0,55.0,55.0,40.0,40.0,60.0,80.0,65.0,65.0,45.0,35.0,60.0,30.0,30.0,45.0,50.0,85.0,60.0,45.0,50.0,55.0,60.0,60.0,80.0,50.0,55.0,30.0,85.0,30.0,40.0,30.0,30.0,25.0,80.0,80.0,30.0,30.0,30.0,25.0,55.0,55.0,20.0,70.0,75.0,70.0,75.0,20.0,70.0,35.0,30.0,5.0,5.0,40.0,40.0,75.0,75.0,80.0,80.0,40.0,40.0,55.0,40.0,40.0,65.0,50.0,85.0,85.0,60.0,60.0,60.0,60.0,55.0,45.0,55.0,70.0,40.0,45.0,75.0,50.0,30.0,60.0,85.0,60.0,60.0,65.0,45.0,75.0,75.0,45.0,70.0,15.0,15.0,65.0,65.0,55.0,60.0,25.0,20.0,80.0,80.0,35.0,40.0,40.0,60.0,60.0,50.0,30.0,60.0,30.0,75.0,20.0,20.0,40.0,40.0,45.0,45.0,75.0,85.0,75.0,45.0,45.0,45.0,45.0,45.0,40.0,40.0,40.0,40.0,55.0,25.0,40.0,70.0,70.0,40.0,45.0,65.0,30.0,50.0,60.0,20.0,20.0,35.0,35.0,70.0,70.0,25.0,65.0,40.0,40.0,60.0,60.0,20.0,20.0,70.0,45.0,50.0,55.0,75.0,75.0,75.0,70.0,60.0,60.0,60.0,70.0,45.0,45.0,45.0,75.0,75.0,35.0,30.0,30.0,30.0,65.0,20.0,65.0,50.0,80.0,40.0,40.0,40.0,75.0,75.0,75.0,70.0,70.0,45.0,45.0,40.0,30.0,30.0,30.0,30.0,25.0,65.0,80.0,5.0,80.0,80.0,80.0,45.0,45.0,45.0,30.0,50.0,55.0,30.0,25.0,35.0,35.0,45.0,50.0,45.0,45.0,35.0,80.0,20.0,50.0,45.0,30.0,45.0,80.0,35.0,70.0,30.0,30.0,70.0,80.0,45.0,80.0,65.0,30.0,50.0,40.0,40.0,65.0,30.0,30.0,45.0,25.0,25.0,65.0,65.0,75.0,75.0,75.0,25.0,15.0,55.0,55.0,75.0,40.0,80.0,35.0,5.0,5.0,35.0,40.0,40.0,35.0,40.0,40.0,40.0,85.0,85.0,35.0,35.0,55.0,55.0,35.0,35.0,40.0,40.0,20.0,35.0,30.0,35.0,75.0,75.0,80.0,80.0,70.0,65.0,30.0,50.0,30.0,30.0,45.0,30.0,60.0,60.0,65.0,60.0,70.0,30.0,30.0,35.0,65.0,65.0,20.0,20.0,55.0,60.0,60.0,20.0,20.0,35.0,45.0,45.0,45.0,70.0,50.0,65.0,65.0,30.0,30.0,30.0,30.0,45.0,50.0,50.0,45.0,45.0,75.0,55.0,55.0,60.0,55.0,55.0,85.0,55.0,55.0,70.0,30.0,30.0,30.0,30.0,40.0,60.0,40.0,60.0,35.0,25.0,60.0,75.0,55.0,55.0,50.0,50.0,60.0,85.0,40.0,65.0,45.0,45.0,75.0,75.0,55.0,45.0,55.0,45.0,55.0,30.0,75.0,50.0,75.0,75.0,80.0,80.0,80.0,75.0,55.0,60.0,60.0,40.0,65.0,70.0,70.0,70.0,70.0,60.0,45.0,75.0,70.0,70.0,25.0,65.0,70.0,55.0,55.0,60.0,40.0,20.0,20.0,35.0,45.0,45.0,45.0,50.0,50.0,65.0,65.0,65.0,65.0,40.0,75.0,65.0,65.0,75.0,75.0,60.0,45.0,35.0,45.0,70.0,65.0,65.0,65.0,65.0,35.0,50.0,40.0,40.0,40.0,40.0,40.0,45.0,45.0,45.0,45.0,55.0,55.0,70.0,50.0,60.0,55.0,55.0,55.0,55.0,25.0,25.0,25.0,55.0,80.0,55.0,55.0,50.0,50.0,80.0,55.0,75.0,75.0,20.0,20.0,25.0,60.0,60.0,65.0,70.0,70.0,70.0,45.0,45.0,65.0,65.0,65.0,65.0,60.0,60.0,65.0,70.0,65.0,45.0,50.0,50.0,65.0,40.0,45.0,75.0,75.0,30.0,60.0,60.0,70.0,45.0,45.0,65.0,65.0,45.0,45.0,60.0,45.0,45.0,45.0,30.0,30.0,45.0,65.0,60.0,60.0,30.0,35.0,65.0,65.0,30.0,30.0,45.0,45.0,30.0,30.0,60.0,60.0,70.0,30.0,85.0,60.0,65.0,55.0,65.0,45.0,50.0,55.0,75.0,75.0,50.0,40.0,70.0,40.0,40.0,80.0,30.0,85.0,45.0,85.0,80.0,40.0,40.0,40.0,50.0,35.0,35.0,65.0,65.0,25.0,25.0,35.0,35.0,35.0,35.0,70.0,75.0,75.0,85.0,65.0,35.0,25.0,25.0,40.0,60.0,60.0,60.0,60.0,40.0,45.0,45.0,45.0,60.0,70.0,70.0,65.0,55.0,50.0,55.0,55.0,20.0,85.0,85.0,40.0,45.0,40.0,35.0,10.0,25.0,25.0,35.0,35.0,50.0,25.0,25.0,55.0,55.0,0.0,0.0,5.0,5.0,5.0,5.0,30.0,30.0,60.0,60.0,30.0,30.0,75.0,75.0,0.0,0.0,0.0,0.0,5.0,5.0,30.0,30.0,30.0,30.0,0.0,0.0,10.0,10.0,60.0,60.0,15.0,15.0,5.0,5.0,40.0,40.0,5.0,5.0,5.0,30.0,30.0,45.0,45.0,45.0,45.0,75.0,75.0,60.0,60.0,30.0,30.0,60.0,60.0,60.0,60.0,5.0,5.0,60.0,60.0,30.0,30.0,35.0,35.0,60.0,60.0,55.0,55.0,40.0,40.0,45.0,45.0,40.0,40.0,50.0,65.0,65.0,65.0,65.0,65.0,65.0,5.0,5.0,65.0,65.0,0.0,0.0,10.0,10.0,20.0,20.0,25.0,25.0,25.0,65.0,65.0,85.0,85.0,50.0,50.0,5.0,5.0,50.0,50.0,5.0,5.0,20.0,20.0,15.0,15.0,50.0,50.0,0.0,30.0,30.0,25.0,25.0,65.0,65.0,5.0,5.0,5.0,5.0,25.0,25.0,15.0,15.0,20.0,20.0,0.0,0.0,35.0,35.0,5.0,5.0,35.0,35.0,5.0,5.0,0.0,0.0,50.0,50.0,25.0,25.0,55.0,55.0,25.0,25.0,30.0,30.0,55.0,55.0,55.0,0.0,0.0,25.0,25.0,0.0,10.0,0.0,0.0,70.0,70.0,5.0,5.0,60.0,60.0,5.0,50.0,50.0,15.0,25.0,25.0,35.0,80.0,70.0,70.0,70.0,70.0,70.0,70.0,70.0,45.0,45.0,45.0,45.0,45.0,45.0,45.0,45.0,45.0,45.0,45.0,45.0,45.0,45.0,45.0,75.0,75.0,40.0,55.0,60.0,30.0,75.0,35.0,50.0,50.0,50.0,50.0,50.0,50.0,50.0,50.0,50.0,20.0,20.0,20.0,20.0,20.0,20.0,20.0,20.0,20.0,40.0,40.0,40.0,40.0,40.0,35.0,35.0,35.0,35.0,35.0,35.0,35.0,35.0,35.0,35.0,25.0,40.0,40.0,40.0,40.0,40.0,40.0,55.0,55.0,55.0,85.0,85.0,85.0,85.0,40.0,40.0,40.0,40.0,40.0,40.0,20.0,20.0,20.0,25.0,25.0,30.0,30.0,30.0,30.0,30.0,30.0,30.0,30.0,30.0,30.0,70.0,70.0,70.0,35.0,35.0,35.0,75.0,75.0,45.0,45.0,30.0,30.0,65.0,65.0,65.0,65.0,65.0,70.0,70.0,70.0,40.0,40.0,35.0,35.0,45.0,45.0,30.0,30.0,30.0,20.0,20.0,20.0,20.0,40.0,40.0,40.0,40.0,40.0,40.0,40.0,40.0,40.0,40.0,40.0,40.0,40.0,40.0,40.0,40.0,40.0,40.0,40.0,40.0,40.0,60.0,60.0,60.0,60.0,60.0,60.0,60.0,60.0,60.0,40.0,40.0,40.0,40.0,40.0,40.0,40.0,40.0,40.0,40.0,40.0,40.0,40.0,40.0,40.0,40.0,40.0,40.0,40.0,40.0,40.0,40.0,40.0,40.0,40.0,40.0,40.0,40.0,40.0,40.0,40.0,40.0,40.0,40.0,40.0,30.0,30.0,40.0,40.0,50.0,0.0,0.0,10.0,10.0,50.0,50.0,30.0,30.0,50.0,50.0,75.0,50.0,30.0,30.0,65.0,65.0,55.0,55.0,55.0,55.0,55.0,55.0,65.0,65.0,30.0,30.0,30.0,30.0,50.0,50.0,70.0,70.0,50.0,50.0,55.0,55.0,75.0,15.0,15.0,30.0,70.0,70.0,30.0,30.0,20.0,55.0,55.0,15.0,15.0,20.0,20.0,20.0,40.0,50.0,80.0,50.0,70.0,70.0,70.0,80.0,80.0,65.0,65.0,80.0,80.0,65.0,80.0,70.0,80.0,70.0,85.0,85.0,55.0,85.0,60.0,75.0,80.0,80.0,75.0,60.0,70.0,65.0,70.0,70.0,80.0,70.0,60.0,65.0,65.0,65.0,85.0,60.0,70.0,55.0,60.0,65.0,65.0,75.0,80.0,50.0,80.0,85.0,60.0,60.0,65.0,75.0,75.0,60.0,85.0,80.0,55.0,60.0,80.0,65.0,85.0,70.0,55.0,60.0,60.0,80.0,50.0,80.0,45.0,55.0,75.0,75.0,40.0,55.0,75.0,50.0,55.0,55.0,60.0,60.0,60.0,70.0,60.0,85.0,55.0,70.0,70.0,70.0,70.0,70.0,60.0,85.0,85.0,80.0,70.0,85.0,40.0,70.0,65.0,80.0,50.0,85.0,65.0,75.0,75.0,65.0,50.0,50.0,50.0,75.0,70.0,70.0,65.0,70.0,65.0,85.0,70.0,60.0,60.0,60.0,65.0,65.0,45.0,60.0,85.0,45.0,45.0,45.0,80.0,75.0,55.0,80.0,80.0,75.0,60.0,55.0,80.0,60.0,70.0,70.0,75.0,75.0,75.0,65.0,75.0,85.0,65.0,70.0,55.0,70.0,45.0,85.0,75.0,85.0,70.0,75.0,60.0,70.0,65.0,40.0,75.0,75.0,60.0,70.0,70.0,65.0,65.0,80.0,80.0,80.0,75.0,50.0,50.0,50.0,70.0,70.0,70.0,65.0,85.0,75.0,75.0,75.0,75.0,55.0,55.0,55.0,65.0,65.0,85.0,55.0,55.0,75.0,45.0,60.0,40.0,60.0,85.0,80.0,80.0,60.0,50.0,70.0,70.0,60.0,60.0,60.0,60.0,80.0,80.0,65.0,65.0,75.0,75.0,75.0,75.0,75.0,75.0,70.0,75.0,75.0,65.0,60.0,75.0,80.0,55.0,55.0,55.0,60.0,70.0,70.0,60.0,70.0,70.0,70.0,65.0,65.0,60.0,60.0,75.0,85.0,75.0,50.0,60.0,50.0,75.0,75.0,70.0,80.0,45.0,45.0,70.0,60.0,75.0,65.0,60.0,50.0,55.0,75.0,60.0,75.0,55.0,60.0,70.0,85.0,65.0,85.0,75.0,60.0,85.0,65.0,70.0,70.0,70.0,60.0,50.0,80.0,70.0,50.0,50.0,60.0,60.0,55.0,40.0,85.0,60.0,80.0,60.0,75.0,80.0,55.0,70.0,75.0,40.0,30.0,55.0,55.0,70.0,60.0,60.0,60.0,60.0,50.0,70.0,45.0,65.0,65.0,70.0,60.0,60.0,70.0,70.0,65.0,60.0,65.0,60.0,70.0,60.0,80.0,80.0,55.0,60.0,60.0,75.0,40.0,40.0,40.0,80.0,70.0],\"type\":\"histogram\",\"xaxis\":\"x3\",\"yaxis\":\"y3\"},{\"name\":\"Sex\",\"x\":[\"male\",\"female\",\"unknown\"],\"y\":[5406,4552,57],\"type\":\"bar\",\"xaxis\":\"x4\",\"yaxis\":\"y4\"}],                        {\"template\":{\"data\":{\"barpolar\":[{\"marker\":{\"line\":{\"color\":\"rgb(17,17,17)\",\"width\":0.5},\"pattern\":{\"fillmode\":\"overlay\",\"size\":10,\"solidity\":0.2}},\"type\":\"barpolar\"}],\"bar\":[{\"error_x\":{\"color\":\"#f2f5fa\"},\"error_y\":{\"color\":\"#f2f5fa\"},\"marker\":{\"line\":{\"color\":\"rgb(17,17,17)\",\"width\":0.5},\"pattern\":{\"fillmode\":\"overlay\",\"size\":10,\"solidity\":0.2}},\"type\":\"bar\"}],\"carpet\":[{\"aaxis\":{\"endlinecolor\":\"#A2B1C6\",\"gridcolor\":\"#506784\",\"linecolor\":\"#506784\",\"minorgridcolor\":\"#506784\",\"startlinecolor\":\"#A2B1C6\"},\"baxis\":{\"endlinecolor\":\"#A2B1C6\",\"gridcolor\":\"#506784\",\"linecolor\":\"#506784\",\"minorgridcolor\":\"#506784\",\"startlinecolor\":\"#A2B1C6\"},\"type\":\"carpet\"}],\"choropleth\":[{\"colorbar\":{\"outlinewidth\":0,\"ticks\":\"\"},\"type\":\"choropleth\"}],\"contourcarpet\":[{\"colorbar\":{\"outlinewidth\":0,\"ticks\":\"\"},\"type\":\"contourcarpet\"}],\"contour\":[{\"colorbar\":{\"outlinewidth\":0,\"ticks\":\"\"},\"colorscale\":[[0.0,\"#0d0887\"],[0.1111111111111111,\"#46039f\"],[0.2222222222222222,\"#7201a8\"],[0.3333333333333333,\"#9c179e\"],[0.4444444444444444,\"#bd3786\"],[0.5555555555555556,\"#d8576b\"],[0.6666666666666666,\"#ed7953\"],[0.7777777777777778,\"#fb9f3a\"],[0.8888888888888888,\"#fdca26\"],[1.0,\"#f0f921\"]],\"type\":\"contour\"}],\"heatmapgl\":[{\"colorbar\":{\"outlinewidth\":0,\"ticks\":\"\"},\"colorscale\":[[0.0,\"#0d0887\"],[0.1111111111111111,\"#46039f\"],[0.2222222222222222,\"#7201a8\"],[0.3333333333333333,\"#9c179e\"],[0.4444444444444444,\"#bd3786\"],[0.5555555555555556,\"#d8576b\"],[0.6666666666666666,\"#ed7953\"],[0.7777777777777778,\"#fb9f3a\"],[0.8888888888888888,\"#fdca26\"],[1.0,\"#f0f921\"]],\"type\":\"heatmapgl\"}],\"heatmap\":[{\"colorbar\":{\"outlinewidth\":0,\"ticks\":\"\"},\"colorscale\":[[0.0,\"#0d0887\"],[0.1111111111111111,\"#46039f\"],[0.2222222222222222,\"#7201a8\"],[0.3333333333333333,\"#9c179e\"],[0.4444444444444444,\"#bd3786\"],[0.5555555555555556,\"#d8576b\"],[0.6666666666666666,\"#ed7953\"],[0.7777777777777778,\"#fb9f3a\"],[0.8888888888888888,\"#fdca26\"],[1.0,\"#f0f921\"]],\"type\":\"heatmap\"}],\"histogram2dcontour\":[{\"colorbar\":{\"outlinewidth\":0,\"ticks\":\"\"},\"colorscale\":[[0.0,\"#0d0887\"],[0.1111111111111111,\"#46039f\"],[0.2222222222222222,\"#7201a8\"],[0.3333333333333333,\"#9c179e\"],[0.4444444444444444,\"#bd3786\"],[0.5555555555555556,\"#d8576b\"],[0.6666666666666666,\"#ed7953\"],[0.7777777777777778,\"#fb9f3a\"],[0.8888888888888888,\"#fdca26\"],[1.0,\"#f0f921\"]],\"type\":\"histogram2dcontour\"}],\"histogram2d\":[{\"colorbar\":{\"outlinewidth\":0,\"ticks\":\"\"},\"colorscale\":[[0.0,\"#0d0887\"],[0.1111111111111111,\"#46039f\"],[0.2222222222222222,\"#7201a8\"],[0.3333333333333333,\"#9c179e\"],[0.4444444444444444,\"#bd3786\"],[0.5555555555555556,\"#d8576b\"],[0.6666666666666666,\"#ed7953\"],[0.7777777777777778,\"#fb9f3a\"],[0.8888888888888888,\"#fdca26\"],[1.0,\"#f0f921\"]],\"type\":\"histogram2d\"}],\"histogram\":[{\"marker\":{\"pattern\":{\"fillmode\":\"overlay\",\"size\":10,\"solidity\":0.2}},\"type\":\"histogram\"}],\"mesh3d\":[{\"colorbar\":{\"outlinewidth\":0,\"ticks\":\"\"},\"type\":\"mesh3d\"}],\"parcoords\":[{\"line\":{\"colorbar\":{\"outlinewidth\":0,\"ticks\":\"\"}},\"type\":\"parcoords\"}],\"pie\":[{\"automargin\":true,\"type\":\"pie\"}],\"scatter3d\":[{\"line\":{\"colorbar\":{\"outlinewidth\":0,\"ticks\":\"\"}},\"marker\":{\"colorbar\":{\"outlinewidth\":0,\"ticks\":\"\"}},\"type\":\"scatter3d\"}],\"scattercarpet\":[{\"marker\":{\"colorbar\":{\"outlinewidth\":0,\"ticks\":\"\"}},\"type\":\"scattercarpet\"}],\"scattergeo\":[{\"marker\":{\"colorbar\":{\"outlinewidth\":0,\"ticks\":\"\"}},\"type\":\"scattergeo\"}],\"scattergl\":[{\"marker\":{\"line\":{\"color\":\"#283442\"}},\"type\":\"scattergl\"}],\"scattermapbox\":[{\"marker\":{\"colorbar\":{\"outlinewidth\":0,\"ticks\":\"\"}},\"type\":\"scattermapbox\"}],\"scatterpolargl\":[{\"marker\":{\"colorbar\":{\"outlinewidth\":0,\"ticks\":\"\"}},\"type\":\"scatterpolargl\"}],\"scatterpolar\":[{\"marker\":{\"colorbar\":{\"outlinewidth\":0,\"ticks\":\"\"}},\"type\":\"scatterpolar\"}],\"scatter\":[{\"marker\":{\"line\":{\"color\":\"#283442\"}},\"type\":\"scatter\"}],\"scatterternary\":[{\"marker\":{\"colorbar\":{\"outlinewidth\":0,\"ticks\":\"\"}},\"type\":\"scatterternary\"}],\"surface\":[{\"colorbar\":{\"outlinewidth\":0,\"ticks\":\"\"},\"colorscale\":[[0.0,\"#0d0887\"],[0.1111111111111111,\"#46039f\"],[0.2222222222222222,\"#7201a8\"],[0.3333333333333333,\"#9c179e\"],[0.4444444444444444,\"#bd3786\"],[0.5555555555555556,\"#d8576b\"],[0.6666666666666666,\"#ed7953\"],[0.7777777777777778,\"#fb9f3a\"],[0.8888888888888888,\"#fdca26\"],[1.0,\"#f0f921\"]],\"type\":\"surface\"}],\"table\":[{\"cells\":{\"fill\":{\"color\":\"#506784\"},\"line\":{\"color\":\"rgb(17,17,17)\"}},\"header\":{\"fill\":{\"color\":\"#2a3f5f\"},\"line\":{\"color\":\"rgb(17,17,17)\"}},\"type\":\"table\"}]},\"layout\":{\"annotationdefaults\":{\"arrowcolor\":\"#f2f5fa\",\"arrowhead\":0,\"arrowwidth\":1},\"autotypenumbers\":\"strict\",\"coloraxis\":{\"colorbar\":{\"outlinewidth\":0,\"ticks\":\"\"}},\"colorscale\":{\"diverging\":[[0,\"#8e0152\"],[0.1,\"#c51b7d\"],[0.2,\"#de77ae\"],[0.3,\"#f1b6da\"],[0.4,\"#fde0ef\"],[0.5,\"#f7f7f7\"],[0.6,\"#e6f5d0\"],[0.7,\"#b8e186\"],[0.8,\"#7fbc41\"],[0.9,\"#4d9221\"],[1,\"#276419\"]],\"sequential\":[[0.0,\"#0d0887\"],[0.1111111111111111,\"#46039f\"],[0.2222222222222222,\"#7201a8\"],[0.3333333333333333,\"#9c179e\"],[0.4444444444444444,\"#bd3786\"],[0.5555555555555556,\"#d8576b\"],[0.6666666666666666,\"#ed7953\"],[0.7777777777777778,\"#fb9f3a\"],[0.8888888888888888,\"#fdca26\"],[1.0,\"#f0f921\"]],\"sequentialminus\":[[0.0,\"#0d0887\"],[0.1111111111111111,\"#46039f\"],[0.2222222222222222,\"#7201a8\"],[0.3333333333333333,\"#9c179e\"],[0.4444444444444444,\"#bd3786\"],[0.5555555555555556,\"#d8576b\"],[0.6666666666666666,\"#ed7953\"],[0.7777777777777778,\"#fb9f3a\"],[0.8888888888888888,\"#fdca26\"],[1.0,\"#f0f921\"]]},\"colorway\":[\"#636efa\",\"#EF553B\",\"#00cc96\",\"#ab63fa\",\"#FFA15A\",\"#19d3f3\",\"#FF6692\",\"#B6E880\",\"#FF97FF\",\"#FECB52\"],\"font\":{\"color\":\"#f2f5fa\"},\"geo\":{\"bgcolor\":\"rgb(17,17,17)\",\"lakecolor\":\"rgb(17,17,17)\",\"landcolor\":\"rgb(17,17,17)\",\"showlakes\":true,\"showland\":true,\"subunitcolor\":\"#506784\"},\"hoverlabel\":{\"align\":\"left\"},\"hovermode\":\"closest\",\"mapbox\":{\"style\":\"dark\"},\"paper_bgcolor\":\"rgb(17,17,17)\",\"plot_bgcolor\":\"rgb(17,17,17)\",\"polar\":{\"angularaxis\":{\"gridcolor\":\"#506784\",\"linecolor\":\"#506784\",\"ticks\":\"\"},\"bgcolor\":\"rgb(17,17,17)\",\"radialaxis\":{\"gridcolor\":\"#506784\",\"linecolor\":\"#506784\",\"ticks\":\"\"}},\"scene\":{\"xaxis\":{\"backgroundcolor\":\"rgb(17,17,17)\",\"gridcolor\":\"#506784\",\"gridwidth\":2,\"linecolor\":\"#506784\",\"showbackground\":true,\"ticks\":\"\",\"zerolinecolor\":\"#C8D4E3\"},\"yaxis\":{\"backgroundcolor\":\"rgb(17,17,17)\",\"gridcolor\":\"#506784\",\"gridwidth\":2,\"linecolor\":\"#506784\",\"showbackground\":true,\"ticks\":\"\",\"zerolinecolor\":\"#C8D4E3\"},\"zaxis\":{\"backgroundcolor\":\"rgb(17,17,17)\",\"gridcolor\":\"#506784\",\"gridwidth\":2,\"linecolor\":\"#506784\",\"showbackground\":true,\"ticks\":\"\",\"zerolinecolor\":\"#C8D4E3\"}},\"shapedefaults\":{\"line\":{\"color\":\"#f2f5fa\"}},\"sliderdefaults\":{\"bgcolor\":\"#C8D4E3\",\"bordercolor\":\"rgb(17,17,17)\",\"borderwidth\":1,\"tickwidth\":0},\"ternary\":{\"aaxis\":{\"gridcolor\":\"#506784\",\"linecolor\":\"#506784\",\"ticks\":\"\"},\"baxis\":{\"gridcolor\":\"#506784\",\"linecolor\":\"#506784\",\"ticks\":\"\"},\"bgcolor\":\"rgb(17,17,17)\",\"caxis\":{\"gridcolor\":\"#506784\",\"linecolor\":\"#506784\",\"ticks\":\"\"}},\"title\":{\"x\":0.05},\"updatemenudefaults\":{\"bgcolor\":\"#506784\",\"borderwidth\":0},\"xaxis\":{\"automargin\":true,\"gridcolor\":\"#283442\",\"linecolor\":\"#506784\",\"ticks\":\"\",\"title\":{\"standoff\":15},\"zerolinecolor\":\"#283442\",\"zerolinewidth\":2},\"yaxis\":{\"automargin\":true,\"gridcolor\":\"#283442\",\"linecolor\":\"#506784\",\"ticks\":\"\",\"title\":{\"standoff\":15},\"zerolinecolor\":\"#283442\",\"zerolinewidth\":2}}},\"xaxis\":{\"anchor\":\"y\",\"domain\":[0.0,0.45],\"title\":{\"text\":\"Cell Type\"}},\"yaxis\":{\"anchor\":\"x\",\"domain\":[0.625,1.0],\"title\":{\"text\":\"Count\"}},\"xaxis2\":{\"anchor\":\"y2\",\"domain\":[0.55,1.0],\"title\":{\"text\":\"Localization\"}},\"yaxis2\":{\"anchor\":\"x2\",\"domain\":[0.625,1.0],\"title\":{\"text\":\"Count\"}},\"xaxis3\":{\"anchor\":\"y3\",\"domain\":[0.0,0.45],\"title\":{\"text\":\"Age\"}},\"yaxis3\":{\"anchor\":\"x3\",\"domain\":[0.0,0.375],\"title\":{\"text\":\"Count\"}},\"xaxis4\":{\"anchor\":\"y4\",\"domain\":[0.55,1.0],\"title\":{\"text\":\"Sex\"}},\"yaxis4\":{\"anchor\":\"x4\",\"domain\":[0.0,0.375],\"title\":{\"text\":\"Count\"}},\"annotations\":[{\"font\":{\"size\":16},\"showarrow\":false,\"text\":\"Cell Type\",\"x\":0.225,\"xanchor\":\"center\",\"xref\":\"paper\",\"y\":1.0,\"yanchor\":\"bottom\",\"yref\":\"paper\"},{\"font\":{\"size\":16},\"showarrow\":false,\"text\":\"Localization\",\"x\":0.775,\"xanchor\":\"center\",\"xref\":\"paper\",\"y\":1.0,\"yanchor\":\"bottom\",\"yref\":\"paper\"},{\"font\":{\"size\":16},\"showarrow\":false,\"text\":\"Age\",\"x\":0.225,\"xanchor\":\"center\",\"xref\":\"paper\",\"y\":0.375,\"yanchor\":\"bottom\",\"yref\":\"paper\"},{\"font\":{\"size\":16},\"showarrow\":false,\"text\":\"Sex\",\"x\":0.775,\"xanchor\":\"center\",\"xref\":\"paper\",\"y\":0.375,\"yanchor\":\"bottom\",\"yref\":\"paper\"}],\"title\":{\"text\":\"Distribution of Skin Lesion Features\"},\"height\":600,\"width\":1110,\"showlegend\":true},                        {\"responsive\": true}                    ).then(function(){\n",
              "                            \n",
              "var gd = document.getElementById('77c99d9a-0915-47b1-add3-03c8d76daffc');\n",
              "var x = new MutationObserver(function (mutations, observer) {{\n",
              "        var display = window.getComputedStyle(gd).display;\n",
              "        if (!display || display === 'none') {{\n",
              "            console.log([gd, 'removed!']);\n",
              "            Plotly.purge(gd);\n",
              "            observer.disconnect();\n",
              "        }}\n",
              "}});\n",
              "\n",
              "// Listen for the removal of the full notebook cells\n",
              "var notebookContainer = gd.closest('#notebook-container');\n",
              "if (notebookContainer) {{\n",
              "    x.observe(notebookContainer, {childList: true});\n",
              "}}\n",
              "\n",
              "// Listen for the clearing of the current output cell\n",
              "var outputEl = gd.closest('.output');\n",
              "if (outputEl) {{\n",
              "    x.observe(outputEl, {childList: true});\n",
              "}}\n",
              "\n",
              "                        })                };                            </script>        </div>\n",
              "</body>\n",
              "</html>"
            ]
          },
          "metadata": {}
        }
      ],
      "source": [
        "import plotly.graph_objs as go\n",
        "from plotly.subplots import make_subplots\n",
        "\n",
        "fig = make_subplots(rows=2, cols=2,\n",
        "                    subplot_titles=('Cell Type', 'Localization', 'Age', 'Sex'))\n",
        "\n",
        "fig.add_trace(go.Bar(x=df['dx'].value_counts().index,\n",
        "                     y=df['dx'].value_counts().values,\n",
        "                     name='Cell Type'), row=1, col=1)\n",
        "fig.update_xaxes(title_text='Cell Type', row=1, col=1)\n",
        "fig.update_yaxes(title_text='Count', row=1, col=1)\n",
        "\n",
        "fig.add_trace(go.Bar(x=df['localization'].value_counts().index,\n",
        "                     y=df['localization'].value_counts().values,\n",
        "                     name='Localization'), row=1, col=2)\n",
        "fig.update_xaxes(title_text='Localization', row=1, col=2)\n",
        "fig.update_yaxes(title_text='Count', row=1, col=2)\n",
        "\n",
        "sample_age = df[pd.notnull(df['age'])]\n",
        "fig.add_trace(go.Histogram(x=sample_age['age'], name='Age', marker_color='red'), row=2, col=1)\n",
        "fig.update_xaxes(title_text='Age', row=2, col=1)\n",
        "fig.update_yaxes(title_text='Count', row=2, col=1)\n",
        "\n",
        "fig.add_trace(go.Bar(x=df['sex'].value_counts().index,\n",
        "                     y=df['sex'].value_counts().values,\n",
        "                     name='Sex'), row=2, col=2)\n",
        "fig.update_xaxes(title_text='Sex', row=2, col=2)\n",
        "fig.update_yaxes(title_text='Count', row=2, col=2)\n",
        "\n",
        "fig.update_layout(title='Distribution of Skin Lesion Features',\n",
        "                  height=600,\n",
        "                  width=1110,\n",
        "                  showlegend=True,\n",
        "                  template='plotly_dark')\n",
        "\n"
      ]
    },
    {
      "cell_type": "code",
      "execution_count": 12,
      "metadata": {
        "colab": {
          "base_uri": "https://localhost:8080/"
        },
        "id": "vJyraTL9gQDP",
        "outputId": "ee444e9e-3324-4b4b-e798-09f689c48c07"
      },
      "outputs": [
        {
          "output_type": "stream",
          "name": "stdout",
          "text": [
            "5    6705\n",
            "4    1113\n",
            "2    1099\n",
            "1     514\n",
            "0     327\n",
            "6     142\n",
            "3     115\n",
            "Name: label, dtype: int64\n"
          ]
        }
      ],
      "source": [
        "#distribution of data into various classes\n",
        "#Looking at the distribution of the dataset, it obvious that is heavily imbalance\n",
        "#And this can impair a smooth prediction process\n",
        "\n",
        "from sklearn.utils import resample\n",
        "print(df['label'].value_counts())"
      ]
    },
    {
      "cell_type": "markdown",
      "metadata": {
        "id": "4UP61nvKSXs_"
      },
      "source": [
        "#Data Augmentation"
      ]
    },
    {
      "cell_type": "code",
      "execution_count": 13,
      "metadata": {
        "colab": {
          "base_uri": "https://localhost:8080/"
        },
        "id": "AlaTvggrVFVP",
        "outputId": "5c0f530c-5814-4a5d-b108-3a0e231cf0fb"
      },
      "outputs": [
        {
          "output_type": "stream",
          "name": "stdout",
          "text": [
            "0    500\n",
            "1    500\n",
            "2    500\n",
            "3    500\n",
            "4    500\n",
            "5    500\n",
            "6    500\n",
            "Name: label, dtype: int64\n"
          ]
        }
      ],
      "source": [
        "#Here, i have to balance the dataset by assuming an equal distribution of 500 per class,\n",
        "#many ways to balance data... you can also try assigning weights during model implementation\n",
        "#seperate each classes, resample, and combine back into single dataframe\n",
        "\n",
        "from sklearn.utils import resample\n",
        "\n",
        "# Define the number of samples per class\n",
        "n_samples = 500\n",
        "\n",
        "# Define an empty DataFrame to store the balanced data\n",
        "df_balanced = pd.DataFrame()\n",
        "\n",
        "# Loop over each class\n",
        "for label in range(7):\n",
        "    # Get the samples for the current class\n",
        "    df_class = df[df['label'] == label]\n",
        "    # Resample the samples to achieve the desired number of samples\n",
        "    df_class_balanced = resample(df_class, replace=True, n_samples=n_samples, random_state=42)\n",
        "    # Append the balanced samples to the DataFrame\n",
        "    df_balanced = pd.concat([df_balanced, df_class_balanced])\n",
        "\n",
        "# Recheck the distribution of the classes to see if they have balanced up\n",
        "print(df_balanced['label'].value_counts())\n"
      ]
    },
    {
      "cell_type": "code",
      "execution_count": 14,
      "metadata": {
        "id": "8wi65fJm7nhh"
      },
      "outputs": [],
      "source": [
        "#Now lets read the images based on image ID from the csv file, ensuring that the right images are read\n",
        "\n",
        "dir_path = '/content/drive/MyDrive/Colab_files/Neu_Comp/dataverse_files/HAM10000_data'\n",
        "file_pattern = os.path.join(dir_path, '*', '*.jpg')\n",
        "\n",
        "image_path = {os.path.splitext(os.path.basename(x))[0]: x for x in glob(file_pattern)}\n"
      ]
    },
    {
      "cell_type": "code",
      "execution_count": 15,
      "metadata": {
        "id": "9q9A9qhS3OoH"
      },
      "outputs": [],
      "source": [
        "#define the path and add as a new column\n",
        "df_balanced['path'] = df['image_id'].map(image_path.get)\n",
        "\n"
      ]
    },
    {
      "cell_type": "code",
      "execution_count": 16,
      "metadata": {
        "colab": {
          "base_uri": "https://localhost:8080/",
          "height": 250
        },
        "id": "nPknV3mF_6AB",
        "outputId": "d2c28ca2-76a8-489f-c5fa-686e896fd176"
      },
      "outputs": [
        {
          "output_type": "execute_result",
          "data": {
            "text/plain": [
              "        lesion_id      image_id     dx dx_type   age   sex     localization  \\\n",
              "9789  HAM_0003136  ISIC_0026645  akiec   histo  65.0  male             back   \n",
              "9957  HAM_0006587  ISIC_0025780  akiec   histo  70.0  male             face   \n",
              "9793  HAM_0005505  ISIC_0024450  akiec   histo  50.0  male  upper extremity   \n",
              "9758  HAM_0003455  ISIC_0027896  akiec   histo  75.0  male             hand   \n",
              "9875  HAM_0005459  ISIC_0029268  akiec   histo  85.0  male  upper extremity   \n",
              "\n",
              "        dataset  label                                               path  \\\n",
              "9789  rosendahl      0  /content/drive/MyDrive/Colab_files/Neu_Comp/da...   \n",
              "9957  rosendahl      0  /content/drive/MyDrive/Colab_files/Neu_Comp/da...   \n",
              "9793  rosendahl      0  /content/drive/MyDrive/Colab_files/Neu_Comp/da...   \n",
              "9758  rosendahl      0  /content/drive/MyDrive/Colab_files/Neu_Comp/da...   \n",
              "9875  rosendahl      0  /content/drive/MyDrive/Colab_files/Neu_Comp/da...   \n",
              "\n",
              "                                                  image  \n",
              "9789  [[[154, 116, 104], [164, 128, 121], [175, 141,...  \n",
              "9957  [[[137, 75, 81], [132, 65, 71], [141, 77, 83],...  \n",
              "9793  [[[130, 93, 93], [182, 145, 144], [203, 166, 1...  \n",
              "9758  [[[206, 149, 175], [209, 151, 171], [216, 162,...  \n",
              "9875  [[[202, 174, 198], [205, 174, 197], [204, 173,...  "
            ],
            "text/html": [
              "\n",
              "  <div id=\"df-34e11bc7-344b-4533-93ae-97f276049036\">\n",
              "    <div class=\"colab-df-container\">\n",
              "      <div>\n",
              "<style scoped>\n",
              "    .dataframe tbody tr th:only-of-type {\n",
              "        vertical-align: middle;\n",
              "    }\n",
              "\n",
              "    .dataframe tbody tr th {\n",
              "        vertical-align: top;\n",
              "    }\n",
              "\n",
              "    .dataframe thead th {\n",
              "        text-align: right;\n",
              "    }\n",
              "</style>\n",
              "<table border=\"1\" class=\"dataframe\">\n",
              "  <thead>\n",
              "    <tr style=\"text-align: right;\">\n",
              "      <th></th>\n",
              "      <th>lesion_id</th>\n",
              "      <th>image_id</th>\n",
              "      <th>dx</th>\n",
              "      <th>dx_type</th>\n",
              "      <th>age</th>\n",
              "      <th>sex</th>\n",
              "      <th>localization</th>\n",
              "      <th>dataset</th>\n",
              "      <th>label</th>\n",
              "      <th>path</th>\n",
              "      <th>image</th>\n",
              "    </tr>\n",
              "  </thead>\n",
              "  <tbody>\n",
              "    <tr>\n",
              "      <th>9789</th>\n",
              "      <td>HAM_0003136</td>\n",
              "      <td>ISIC_0026645</td>\n",
              "      <td>akiec</td>\n",
              "      <td>histo</td>\n",
              "      <td>65.0</td>\n",
              "      <td>male</td>\n",
              "      <td>back</td>\n",
              "      <td>rosendahl</td>\n",
              "      <td>0</td>\n",
              "      <td>/content/drive/MyDrive/Colab_files/Neu_Comp/da...</td>\n",
              "      <td>[[[154, 116, 104], [164, 128, 121], [175, 141,...</td>\n",
              "    </tr>\n",
              "    <tr>\n",
              "      <th>9957</th>\n",
              "      <td>HAM_0006587</td>\n",
              "      <td>ISIC_0025780</td>\n",
              "      <td>akiec</td>\n",
              "      <td>histo</td>\n",
              "      <td>70.0</td>\n",
              "      <td>male</td>\n",
              "      <td>face</td>\n",
              "      <td>rosendahl</td>\n",
              "      <td>0</td>\n",
              "      <td>/content/drive/MyDrive/Colab_files/Neu_Comp/da...</td>\n",
              "      <td>[[[137, 75, 81], [132, 65, 71], [141, 77, 83],...</td>\n",
              "    </tr>\n",
              "    <tr>\n",
              "      <th>9793</th>\n",
              "      <td>HAM_0005505</td>\n",
              "      <td>ISIC_0024450</td>\n",
              "      <td>akiec</td>\n",
              "      <td>histo</td>\n",
              "      <td>50.0</td>\n",
              "      <td>male</td>\n",
              "      <td>upper extremity</td>\n",
              "      <td>rosendahl</td>\n",
              "      <td>0</td>\n",
              "      <td>/content/drive/MyDrive/Colab_files/Neu_Comp/da...</td>\n",
              "      <td>[[[130, 93, 93], [182, 145, 144], [203, 166, 1...</td>\n",
              "    </tr>\n",
              "    <tr>\n",
              "      <th>9758</th>\n",
              "      <td>HAM_0003455</td>\n",
              "      <td>ISIC_0027896</td>\n",
              "      <td>akiec</td>\n",
              "      <td>histo</td>\n",
              "      <td>75.0</td>\n",
              "      <td>male</td>\n",
              "      <td>hand</td>\n",
              "      <td>rosendahl</td>\n",
              "      <td>0</td>\n",
              "      <td>/content/drive/MyDrive/Colab_files/Neu_Comp/da...</td>\n",
              "      <td>[[[206, 149, 175], [209, 151, 171], [216, 162,...</td>\n",
              "    </tr>\n",
              "    <tr>\n",
              "      <th>9875</th>\n",
              "      <td>HAM_0005459</td>\n",
              "      <td>ISIC_0029268</td>\n",
              "      <td>akiec</td>\n",
              "      <td>histo</td>\n",
              "      <td>85.0</td>\n",
              "      <td>male</td>\n",
              "      <td>upper extremity</td>\n",
              "      <td>rosendahl</td>\n",
              "      <td>0</td>\n",
              "      <td>/content/drive/MyDrive/Colab_files/Neu_Comp/da...</td>\n",
              "      <td>[[[202, 174, 198], [205, 174, 197], [204, 173,...</td>\n",
              "    </tr>\n",
              "  </tbody>\n",
              "</table>\n",
              "</div>\n",
              "      <button class=\"colab-df-convert\" onclick=\"convertToInteractive('df-34e11bc7-344b-4533-93ae-97f276049036')\"\n",
              "              title=\"Convert this dataframe to an interactive table.\"\n",
              "              style=\"display:none;\">\n",
              "        \n",
              "  <svg xmlns=\"http://www.w3.org/2000/svg\" height=\"24px\"viewBox=\"0 0 24 24\"\n",
              "       width=\"24px\">\n",
              "    <path d=\"M0 0h24v24H0V0z\" fill=\"none\"/>\n",
              "    <path d=\"M18.56 5.44l.94 2.06.94-2.06 2.06-.94-2.06-.94-.94-2.06-.94 2.06-2.06.94zm-11 1L8.5 8.5l.94-2.06 2.06-.94-2.06-.94L8.5 2.5l-.94 2.06-2.06.94zm10 10l.94 2.06.94-2.06 2.06-.94-2.06-.94-.94-2.06-.94 2.06-2.06.94z\"/><path d=\"M17.41 7.96l-1.37-1.37c-.4-.4-.92-.59-1.43-.59-.52 0-1.04.2-1.43.59L10.3 9.45l-7.72 7.72c-.78.78-.78 2.05 0 2.83L4 21.41c.39.39.9.59 1.41.59.51 0 1.02-.2 1.41-.59l7.78-7.78 2.81-2.81c.8-.78.8-2.07 0-2.86zM5.41 20L4 18.59l7.72-7.72 1.47 1.35L5.41 20z\"/>\n",
              "  </svg>\n",
              "      </button>\n",
              "      \n",
              "  <style>\n",
              "    .colab-df-container {\n",
              "      display:flex;\n",
              "      flex-wrap:wrap;\n",
              "      gap: 12px;\n",
              "    }\n",
              "\n",
              "    .colab-df-convert {\n",
              "      background-color: #E8F0FE;\n",
              "      border: none;\n",
              "      border-radius: 50%;\n",
              "      cursor: pointer;\n",
              "      display: none;\n",
              "      fill: #1967D2;\n",
              "      height: 32px;\n",
              "      padding: 0 0 0 0;\n",
              "      width: 32px;\n",
              "    }\n",
              "\n",
              "    .colab-df-convert:hover {\n",
              "      background-color: #E2EBFA;\n",
              "      box-shadow: 0px 1px 2px rgba(60, 64, 67, 0.3), 0px 1px 3px 1px rgba(60, 64, 67, 0.15);\n",
              "      fill: #174EA6;\n",
              "    }\n",
              "\n",
              "    [theme=dark] .colab-df-convert {\n",
              "      background-color: #3B4455;\n",
              "      fill: #D2E3FC;\n",
              "    }\n",
              "\n",
              "    [theme=dark] .colab-df-convert:hover {\n",
              "      background-color: #434B5C;\n",
              "      box-shadow: 0px 1px 3px 1px rgba(0, 0, 0, 0.15);\n",
              "      filter: drop-shadow(0px 1px 2px rgba(0, 0, 0, 0.3));\n",
              "      fill: #FFFFFF;\n",
              "    }\n",
              "  </style>\n",
              "\n",
              "      <script>\n",
              "        const buttonEl =\n",
              "          document.querySelector('#df-34e11bc7-344b-4533-93ae-97f276049036 button.colab-df-convert');\n",
              "        buttonEl.style.display =\n",
              "          google.colab.kernel.accessAllowed ? 'block' : 'none';\n",
              "\n",
              "        async function convertToInteractive(key) {\n",
              "          const element = document.querySelector('#df-34e11bc7-344b-4533-93ae-97f276049036');\n",
              "          const dataTable =\n",
              "            await google.colab.kernel.invokeFunction('convertToInteractive',\n",
              "                                                     [key], {});\n",
              "          if (!dataTable) return;\n",
              "\n",
              "          const docLinkHtml = 'Like what you see? Visit the ' +\n",
              "            '<a target=\"_blank\" href=https://colab.research.google.com/notebooks/data_table.ipynb>data table notebook</a>'\n",
              "            + ' to learn more about interactive tables.';\n",
              "          element.innerHTML = '';\n",
              "          dataTable['output_type'] = 'display_data';\n",
              "          await google.colab.output.renderOutput(dataTable, element);\n",
              "          const docLink = document.createElement('div');\n",
              "          docLink.innerHTML = docLinkHtml;\n",
              "          element.appendChild(docLink);\n",
              "        }\n",
              "      </script>\n",
              "    </div>\n",
              "  </div>\n",
              "  "
            ]
          },
          "metadata": {},
          "execution_count": 16
        }
      ],
      "source": [
        "#use the path to read the images and examine the added columns in the new restructed dataframe - df_balanced\n",
        "\n",
        "df_balanced['image'] = df_balanced['path'].map(lambda x: np.asarray(Image.open(x).resize((SIZE, SIZE))))\n",
        "\n",
        "\n",
        "df_balanced.head()"
      ]
    },
    {
      "cell_type": "code",
      "execution_count": 17,
      "metadata": {
        "colab": {
          "base_uri": "https://localhost:8080/",
          "height": 1000
        },
        "id": "gHPODX2VqY0x",
        "outputId": "cfb47252-56a9-40dc-ec87-758fdb46b5ee"
      },
      "outputs": [
        {
          "output_type": "display_data",
          "data": {
            "text/plain": [
              "<Figure size 1600x2500 with 28 Axes>"
            ],
            "image/png": "[encoded data removed]"
          },
          "metadata": {}
        }
      ],
      "source": [
        "#ploting the images based on the new normalization\n",
        "n_samples = 4 #number of sample for ploting\n",
        "\n",
        "fig, m_axs = plt.subplots(7, n_samples, figsize=(4*n_samples, 25))\n",
        "\n",
        "for c_ax, (type_name, type_rows) in zip(m_axs, df_balanced.sort_values(['dx']).groupby('dx')):\n",
        "    c_ax[0].set_title(type_name)\n",
        "    for (_, c_row), n_ax in zip(type_rows.sample(n_samples, random_state=1234).iterrows(), c_ax):\n",
        "        n_ax.imshow(c_row['image'])\n",
        "        n_ax.axis('off')\n",
        "\n",
        "  "
      ]
    },
    {
      "cell_type": "markdown",
      "metadata": {
        "id": "ix3ewdLCTFlQ"
      },
      "source": [
        "#Feature Extraction"
      ]
    },
    {
      "cell_type": "code",
      "execution_count": 18,
      "metadata": {
        "id": "2H_pKmlb1GzC"
      },
      "outputs": [],
      "source": [
        "#lets convert the dataframe to a numpy array in order to use it for our model design\n",
        "#define x as 'image' column, which is the features\n",
        "x = np.asarray(df_balanced['image'].tolist())\n",
        "\n",
        "#rescale the values to 0-1 by dividing it by 255 (one-hot encoding)\n",
        "x = x/255\n",
        "\n",
        "#define y as label as the target variable that we want to predict.\n",
        "y = df_balanced['label']\n",
        "\n",
        "#since we have a multi-class classification problem, we have to categorize it\n",
        "y_cat = to_categorical(y, num_classes=7)\n",
        "\n"
      ]
    },
    {
      "cell_type": "code",
      "execution_count": 19,
      "metadata": {
        "id": "FuceuNCJ3Lf8"
      },
      "outputs": [],
      "source": [
        "#define the train, validation and test set\n",
        "x_train, x_test, y_train, y_test = train_test_split(x, y_cat, test_size=0.25, random_state=42)\n"
      ]
    },
    {
      "cell_type": "code",
      "execution_count": 20,
      "metadata": {
        "colab": {
          "base_uri": "https://localhost:8080/"
        },
        "id": "injvtSpYEIUR",
        "outputId": "9e172a7b-9684-4921-8636-71eb94f5a605"
      },
      "outputs": [
        {
          "output_type": "execute_result",
          "data": {
            "text/plain": [
              "(2625, 28, 28, 3)"
            ]
          },
          "metadata": {},
          "execution_count": 20
        }
      ],
      "source": [
        "x_train.shape\n",
        "\n"
      ]
    },
    {
      "cell_type": "code",
      "execution_count": 21,
      "metadata": {
        "colab": {
          "base_uri": "https://localhost:8080/"
        },
        "id": "Ci5jevq8EVju",
        "outputId": "1ecd25df-8d7f-43df-fdd3-7591f3e7d80f"
      },
      "outputs": [
        {
          "output_type": "execute_result",
          "data": {
            "text/plain": [
              "(875, 28, 28, 3)"
            ]
          },
          "metadata": {},
          "execution_count": 21
        }
      ],
      "source": [
        "x_test.shape"
      ]
    },
    {
      "cell_type": "code",
      "execution_count": 22,
      "metadata": {
        "colab": {
          "base_uri": "https://localhost:8080/"
        },
        "id": "sXX_lhBz0qdd",
        "outputId": "f7b4ac59-4b09-4e4f-c427-b4ad526b48c2"
      },
      "outputs": [
        {
          "output_type": "execute_result",
          "data": {
            "text/plain": [
              "(2625, 7)"
            ]
          },
          "metadata": {},
          "execution_count": 22
        }
      ],
      "source": [
        "y_train.shape"
      ]
    },
    {
      "cell_type": "code",
      "execution_count": 23,
      "metadata": {
        "colab": {
          "base_uri": "https://localhost:8080/"
        },
        "id": "QjAG7DR00qvA",
        "outputId": "7928d7e7-c5ae-4536-939f-bcd78e787f5c"
      },
      "outputs": [
        {
          "output_type": "execute_result",
          "data": {
            "text/plain": [
              "(875, 7)"
            ]
          },
          "metadata": {},
          "execution_count": 23
        }
      ],
      "source": [
        "y_test.shape\n"
      ]
    },
    {
      "cell_type": "markdown",
      "metadata": {
        "id": "3jA4UmTVTWp2"
      },
      "source": [
        "#Model Development"
      ]
    },
    {
      "cell_type": "code",
      "execution_count": 24,
      "metadata": {
        "colab": {
          "base_uri": "https://localhost:8080/"
        },
        "id": "NqBWQT8C67V7",
        "outputId": "3cacee2d-524f-4fa7-e8be-b94cad238afa"
      },
      "outputs": [
        {
          "output_type": "stream",
          "name": "stdout",
          "text": [
            "Model: \"sequential\"\n",
            "_________________________________________________________________\n",
            " Layer (type)                Output Shape              Param #   \n",
            "=================================================================\n",
            " conv2d (Conv2D)             (None, 26, 26, 256)       7168      \n",
            "                                                                 \n",
            " max_pooling2d (MaxPooling2D  (None, 13, 13, 256)      0         \n",
            " )                                                               \n",
            "                                                                 \n",
            " dropout (Dropout)           (None, 13, 13, 256)       0         \n",
            "                                                                 \n",
            " conv2d_1 (Conv2D)           (None, 11, 11, 128)       295040    \n",
            "                                                                 \n",
            " max_pooling2d_1 (MaxPooling  (None, 5, 5, 128)        0         \n",
            " 2D)                                                             \n",
            "                                                                 \n",
            " dropout_1 (Dropout)         (None, 5, 5, 128)         0         \n",
            "                                                                 \n",
            " conv2d_2 (Conv2D)           (None, 3, 3, 64)          73792     \n",
            "                                                                 \n",
            " max_pooling2d_2 (MaxPooling  (None, 1, 1, 64)         0         \n",
            " 2D)                                                             \n",
            "                                                                 \n",
            " dropout_2 (Dropout)         (None, 1, 1, 64)          0         \n",
            "                                                                 \n",
            " flatten (Flatten)           (None, 64)                0         \n",
            "                                                                 \n",
            " dense (Dense)               (None, 32)                2080      \n",
            "                                                                 \n",
            " dense_1 (Dense)             (None, 7)                 231       \n",
            "                                                                 \n",
            "=================================================================\n",
            "Total params: 378,311\n",
            "Trainable params: 378,311\n",
            "Non-trainable params: 0\n",
            "_________________________________________________________________\n"
          ]
        }
      ],
      "source": [
        "#define the model\n",
        "#CNN architecture\n",
        "\n",
        "from keras.layers.pooling.max_pooling2d import MaxPool2D\n",
        "num_classes = 7\n",
        "\n",
        "model = Sequential()\n",
        "model.add(Conv2D(256, (3, 3), activation='relu', input_shape=(SIZE, SIZE, 3)))\n",
        "model.add(MaxPool2D(pool_size=(2,2)))\n",
        "model.add(Dropout(0.3))\n",
        "model.add(Conv2D(128, (3,3), activation='relu'))\n",
        "model.add(MaxPooling2D(pool_size=(2,2)))\n",
        "model.add(Dropout(0.3))\n",
        "model.add(Conv2D(64, (3, 3), activation='relu'))\n",
        "model.add(MaxPooling2D(pool_size=(2,2)))\n",
        "model.add(Dropout(0.3))\n",
        "model.add(Flatten())\n",
        "model.add(Dense(32))\n",
        "model.add(Dense(7, activation='softmax'))\n",
        "\n",
        "\n",
        "model.summary()\n",
        "\n"
      ]
    },
    {
      "cell_type": "code",
      "execution_count": 25,
      "metadata": {
        "id": "QK1FwddSAltr"
      },
      "outputs": [],
      "source": [
        "#from tensorflow.keras.applications.vgg16 import VGG16\n",
        "#from tensorflow.keras.layers import Dense, Flatten, Dropout\n",
        "#from tensorflow.keras.models import Model\n",
        "\n",
        "# Load the VGG16 model without the top layers\n",
        "\n",
        "#base_model = VGG16(weights='imagenet', include_top=False, input_shape=(SIZE, SIZE, 3))\n",
        "#num_classes = 7\n",
        "\n",
        "# Freeze the base model's layers so they are not trainable\n",
        "\n",
        "#for layer in base_model.layers:\n",
        " # layer.trainable = False\n",
        "\n",
        "# Add new trainable layers on top of the frozen layers\n",
        "\n",
        "#x = base_model.output\n",
        "#x = Flatten()(x)\n",
        "#x = Dense(256, activation='relu')(x)\n",
        "#x = Dropout(0.3)(x)\n",
        "#x = Dense(128, activation='relu')(x)\n",
        "#x = Dropout(0.3)(x)\n",
        "#x = Dense(64, activation='relu')(x)\n",
        "#x = Dropout(0.3)(x)\n",
        "#predictions = Dense(num_classes, activation='softmax')(x)\n",
        "\n",
        "# Create the transfer learning model\n",
        "\n",
        "#model = Model(inputs=base_model.input, outputs=predictions)\n",
        "\n",
        "#model.summary()\n"
      ]
    },
    {
      "cell_type": "code",
      "execution_count": 26,
      "metadata": {
        "id": "fX6DQcOoFh7v"
      },
      "outputs": [],
      "source": [
        "model.compile(loss='categorical_crossentropy', optimizer='Adam', metrics=['acc'])"
      ]
    },
    {
      "cell_type": "code",
      "execution_count": 27,
      "metadata": {
        "id": "mwrjN6FoxpHg"
      },
      "outputs": [],
      "source": [
        "from tensorflow.keras.callbacks import EarlyStopping, ModelCheckpoint\n",
        "\n",
        "es = EarlyStopping(monitor='val_loss', mode='min', verbose=1, patience=10,min_delta=0.0001)\n",
        "mc = ModelCheckpoint('best_model.hdf5', monitor='val_acc', verbose=1,save_best_only=True, mode='max')"
      ]
    },
    {
      "cell_type": "markdown",
      "metadata": {
        "id": "dU4pKx18TkB0"
      },
      "source": [
        "#Model Training"
      ]
    },
    {
      "cell_type": "code",
      "execution_count": null,
      "metadata": {
        "colab": {
          "background_save": true,
          "base_uri": "https://localhost:8080/"
        },
        "id": "bk0u6sf_F3GQ",
        "outputId": "40e1bcb0-92b6-428d-9bb0-c471852265cb"
      },
      "outputs": [
        {
          "output_type": "stream",
          "name": "stdout",
          "text": [
            "Epoch 1/40\n",
            "164/165 [============================>.] - ETA: 0s - loss: 1.8879 - acc: 0.1986\n",
            "Epoch 1: val_acc improved from -inf to 0.22857, saving model to best_model.hdf5\n",
            "165/165 [==============================] - 29s 168ms/step - loss: 1.8878 - acc: 0.1985 - val_loss: 1.8196 - val_acc: 0.2286\n",
            "Epoch 2/40\n",
            "164/165 [============================>.] - ETA: 0s - loss: 1.6995 - acc: 0.2934\n",
            "Epoch 2: val_acc improved from 0.22857 to 0.34057, saving model to best_model.hdf5\n",
            "165/165 [==============================] - 29s 175ms/step - loss: 1.6996 - acc: 0.2933 - val_loss: 1.6031 - val_acc: 0.3406\n",
            "Epoch 3/40\n",
            "164/165 [============================>.] - ETA: 0s - loss: 1.5501 - acc: 0.3643\n",
            "Epoch 3: val_acc improved from 0.34057 to 0.39200, saving model to best_model.hdf5\n",
            "165/165 [==============================] - 29s 177ms/step - loss: 1.5500 - acc: 0.3646 - val_loss: 1.4875 - val_acc: 0.3920\n",
            "Epoch 4/40\n",
            "164/165 [============================>.] - ETA: 0s - loss: 1.4680 - acc: 0.4024\n",
            "Epoch 4: val_acc improved from 0.39200 to 0.40343, saving model to best_model.hdf5\n",
            "165/165 [==============================] - 26s 161ms/step - loss: 1.4681 - acc: 0.4023 - val_loss: 1.4543 - val_acc: 0.4034\n",
            "Epoch 5/40\n",
            "164/165 [============================>.] - ETA: 0s - loss: 1.4090 - acc: 0.4287\n",
            "Epoch 5: val_acc improved from 0.40343 to 0.42857, saving model to best_model.hdf5\n",
            "165/165 [==============================] - 27s 160ms/step - loss: 1.4089 - acc: 0.4290 - val_loss: 1.4002 - val_acc: 0.4286\n",
            "Epoch 6/40\n",
            "164/165 [============================>.] - ETA: 0s - loss: 1.3703 - acc: 0.4566\n",
            "Epoch 6: val_acc improved from 0.42857 to 0.46057, saving model to best_model.hdf5\n",
            "165/165 [==============================] - 28s 168ms/step - loss: 1.3703 - acc: 0.4564 - val_loss: 1.2905 - val_acc: 0.4606\n",
            "Epoch 7/40\n",
            "164/165 [============================>.] - ETA: 0s - loss: 1.3294 - acc: 0.4787\n",
            "Epoch 7: val_acc did not improve from 0.46057\n",
            "165/165 [==============================] - 30s 184ms/step - loss: 1.3294 - acc: 0.4789 - val_loss: 1.3494 - val_acc: 0.4560\n",
            "Epoch 8/40\n",
            "164/165 [============================>.] - ETA: 0s - loss: 1.3183 - acc: 0.4813\n",
            "Epoch 8: val_acc improved from 0.46057 to 0.48686, saving model to best_model.hdf5\n",
            "165/165 [==============================] - 27s 165ms/step - loss: 1.3191 - acc: 0.4811 - val_loss: 1.3348 - val_acc: 0.4869\n",
            "Epoch 9/40\n",
            "164/165 [============================>.] - ETA: 0s - loss: 1.2808 - acc: 0.4947\n",
            "Epoch 9: val_acc improved from 0.48686 to 0.49714, saving model to best_model.hdf5\n",
            "165/165 [==============================] - 27s 165ms/step - loss: 1.2809 - acc: 0.4945 - val_loss: 1.2415 - val_acc: 0.4971\n",
            "Epoch 10/40\n",
            "164/165 [============================>.] - ETA: 0s - loss: 1.2520 - acc: 0.5095\n",
            "Epoch 10: val_acc did not improve from 0.49714\n",
            "165/165 [==============================] - 26s 158ms/step - loss: 1.2518 - acc: 0.5097 - val_loss: 1.2696 - val_acc: 0.4869\n",
            "Epoch 11/40\n",
            "164/165 [============================>.] - ETA: 0s - loss: 1.2487 - acc: 0.5011\n",
            "Epoch 11: val_acc did not improve from 0.49714\n",
            "165/165 [==============================] - 27s 164ms/step - loss: 1.2485 - acc: 0.5013 - val_loss: 1.3204 - val_acc: 0.4389\n",
            "Epoch 12/40\n",
            "164/165 [============================>.] - ETA: 0s - loss: 1.2052 - acc: 0.5107\n",
            "Epoch 12: val_acc improved from 0.49714 to 0.50857, saving model to best_model.hdf5\n",
            "165/165 [==============================] - 27s 165ms/step - loss: 1.2058 - acc: 0.5105 - val_loss: 1.2143 - val_acc: 0.5086\n",
            "Epoch 13/40\n",
            "164/165 [============================>.] - ETA: 0s - loss: 1.2336 - acc: 0.5114\n",
            "Epoch 13: val_acc did not improve from 0.50857\n",
            "165/165 [==============================] - 42s 257ms/step - loss: 1.2337 - acc: 0.5112 - val_loss: 1.2802 - val_acc: 0.4834\n",
            "Epoch 14/40\n",
            "164/165 [============================>.] - ETA: 0s - loss: 1.2142 - acc: 0.5099\n",
            "Epoch 14: val_acc did not improve from 0.50857\n",
            "165/165 [==============================] - 34s 205ms/step - loss: 1.2142 - acc: 0.5097 - val_loss: 1.2004 - val_acc: 0.5074\n",
            "Epoch 15/40\n",
            "164/165 [============================>.] - ETA: 0s - loss: 1.1863 - acc: 0.5347\n",
            "Epoch 15: val_acc improved from 0.50857 to 0.54743, saving model to best_model.hdf5\n",
            "165/165 [==============================] - 28s 170ms/step - loss: 1.1863 - acc: 0.5345 - val_loss: 1.1566 - val_acc: 0.5474\n",
            "Epoch 16/40\n",
            "162/165 [============================>.] - ETA: 0s - loss: 1.1489 - acc: 0.5390"
          ]
        }
      ],
      "source": [
        "#train the model\n",
        "\n",
        "history = model.fit(\n",
        "    x_train, y_train,\n",
        "    epochs=40,\n",
        "    batch_size=16,\n",
        "    validation_data=(x_test, y_test),\n",
        "    verbose=1,\n",
        "    callbacks=[es,mc]\n",
        ")"
      ]
    },
    {
      "cell_type": "markdown",
      "metadata": {
        "id": "zsBhkvqzUDCk"
      },
      "source": [
        "#Model Evaluation and Testing\n"
      ]
    },
    {
      "cell_type": "code",
      "execution_count": null,
      "metadata": {
        "colab": {
          "background_save": true
        },
        "id": "v8w4Hc-LHuwJ"
      },
      "outputs": [],
      "source": [
        "score = model.evaluate(x_test, y_test)\n",
        "print('Test accuracy:', score[1])"
      ]
    },
    {
      "cell_type": "code",
      "execution_count": null,
      "metadata": {
        "colab": {
          "background_save": true
        },
        "id": "SCbrnk4tKPTc"
      },
      "outputs": [],
      "source": [
        "#plot the training and validation accuracy and loss at each epoch\n",
        "loss = history.history['loss']\n",
        "val_loss = history.history['val_loss']\n",
        "epochs = range(1, len(loss) + 1)\n",
        "plt.plot(epochs, loss, 'y', label='Training loss')\n",
        "plt.plot(epochs, val_loss, 'r', label='validation loss')\n",
        "plt.title('Training and validation loss')\n",
        "plt.xlabel('Epochs')\n",
        "plt.ylabel('loss')\n",
        "plt.legend()\n",
        "plt.show()\n",
        "\n"
      ]
    },
    {
      "cell_type": "code",
      "execution_count": null,
      "metadata": {
        "colab": {
          "background_save": true
        },
        "id": "cbQGmVTOPirl"
      },
      "outputs": [],
      "source": [
        "#accuracy curve\n",
        "\n",
        "acc = history.history['acc']\n",
        "val_acc = history.history['val_acc']\n",
        "plt.plot(epochs, acc, 'y', label='Training acc')\n",
        "plt.plot(epochs, val_acc, 'r', label='validation acc')\n",
        "plt.title('Training and validation accuracy')\n",
        "plt.xlabel('Epochs')\n",
        "plt.ylabel('Accuracy')\n",
        "plt.legend()\n",
        "plt.show()"
      ]
    },
    {
      "cell_type": "code",
      "execution_count": null,
      "metadata": {
        "colab": {
          "background_save": true
        },
        "id": "zGEnSWAGRRs2"
      },
      "outputs": [],
      "source": [
        "#let test the model with some prediction\n",
        "\n",
        "y_pred = model.predict(x_test)\n",
        "\n",
        "#convert prediction classes to one-hot vectors\n",
        "y_pred_classes = np.argmax(y_pred, axis = 1)\n",
        "\n",
        "#convert test data to one-hot vectors\n",
        "y_true = np.argmax(y_test, axis = 1)\n",
        "\n"
      ]
    },
    {
      "cell_type": "code",
      "execution_count": null,
      "metadata": {
        "colab": {
          "background_save": true
        },
        "id": "aOCpBbDMSqHD"
      },
      "outputs": [],
      "source": [
        "#examine the confusion matrix\n",
        "cm = confusion_matrix(y_true, y_pred_classes)\n",
        "\n",
        "fig, ax = plt.subplots(figsize=(10, 10))\n",
        "sns.set(font_scale=1.2)\n",
        "sns.heatmap(cm, annot=True, linewidths=5, ax=ax)\n"
      ]
    },
    {
      "cell_type": "code",
      "execution_count": null,
      "metadata": {
        "colab": {
          "background_save": true
        },
        "id": "T2LqG3-8fO9H"
      },
      "outputs": [],
      "source": [
        "# Let's examine the incorrect misclassifications\n",
        "incorr_fraction = 1 - np.diag(cm) / np.sum(cm, axis=1)\n",
        "\n",
        "fig = go.Figure(\n",
        "    data=[go.Bar(x=np.arange(7), y=incorr_fraction)],\n",
        "    layout=go.Layout(xaxis=dict(title='True label'), yaxis=dict(title='Fraction of incorrect predictions'))\n",
        ")\n",
        "\n",
        "fig.show()\n"
      ]
    },
    {
      "cell_type": "code",
      "execution_count": null,
      "metadata": {
        "id": "XVi7z4RXGHIH"
      },
      "outputs": [],
      "source": [
        "# Select a random sample of 10 test_set and display the True label and predicted label\n",
        "sample_indices = np.random.choice(len(x_test), size=12, replace=False)\n",
        "x_sample = x_test[sample_indices]\n",
        "y_sample = y_test[sample_indices]\n",
        "\n",
        "# Use the model to make predictions on the sample\n",
        "y_pred = model.predict(x_sample)\n",
        "\n",
        "# Plot the images and print the true and predicted labels\n",
        "fig, axs = plt.subplots(2, 5, figsize=(12, 6))\n",
        "axs = axs.ravel()\n",
        "for i in range(len(sample_indices)):\n",
        "    axs[i].imshow(x_sample[i])\n",
        "    axs[i].set_title(f\"True: {np.argmax(y_sample[i])} : Pred: {np.argmax(y_pred[i])}\")\n",
        "    axs[i].axis('off')\n",
        "plt.tight_layout()\n",
        "plt.show()\n"
      ]
    },
    {
      "cell_type": "markdown",
      "source": [
        "# New Section"
      ],
      "metadata": {
        "id": "9qi09tRBkQXz"
      }
    }
  ],
  "metadata": {
    "colab": {
      "provenance": [],
      "mount_file_id": "1oISZHhRO9d3JZmnWqvfGAkSKgqsgIy01",
      "authorship_tag": "ABX9TyME/+QcOui4sXWkdh+tWCFJ",
      "include_colab_link": true
    },
    "kernelspec": {
      "display_name": "Python 3",
      "name": "python3"
    },
    "language_info": {
      "name": "python"
    }
  },
  "nbformat": 4,
  "nbformat_minor": 0
}